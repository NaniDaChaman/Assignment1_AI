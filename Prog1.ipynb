{
 "cells": [
  {
   "cell_type": "code",
   "execution_count": 1,
   "id": "3c55efcb-8fc3-4a6b-a22c-10085d02baf0",
   "metadata": {},
   "outputs": [
    {
     "name": "stdout",
     "output_type": "stream",
     "text": [
      "Hi\n"
     ]
    }
   ],
   "source": [
    "print(\"Hi\")"
   ]
  },
  {
   "cell_type": "code",
   "execution_count": 2,
   "id": "2de0b1c3-d69d-42c9-969b-ae4cc347b9ef",
   "metadata": {},
   "outputs": [
    {
     "name": "stdout",
     "output_type": "stream",
     "text": [
      "Collecting pandas\n",
      "  Obtaining dependency information for pandas from https://files.pythonhosted.org/packages/b3/b3/3102c3a4abca1093e50cfec2213102a1c65c0b318a4431395d0121e6e690/pandas-2.2.0-cp310-cp310-manylinux_2_17_x86_64.manylinux2014_x86_64.whl.metadata\n",
      "  Downloading pandas-2.2.0-cp310-cp310-manylinux_2_17_x86_64.manylinux2014_x86_64.whl.metadata (19 kB)\n",
      "Collecting numpy<2,>=1.22.4 (from pandas)\n",
      "  Obtaining dependency information for numpy<2,>=1.22.4 from https://files.pythonhosted.org/packages/a5/37/d1453c9ff4f7630e68ec036c6fb56ba0d7c769daa8a4083cb4ef8ee45995/numpy-1.26.3-cp310-cp310-manylinux_2_17_x86_64.manylinux2014_x86_64.whl.metadata\n",
      "  Downloading numpy-1.26.3-cp310-cp310-manylinux_2_17_x86_64.manylinux2014_x86_64.whl.metadata (61 kB)\n",
      "\u001b[2K     \u001b[90m━━━━━━━━━━━━━━━━━━━━━━━━━━━━━━━━━━━━━━━━\u001b[0m \u001b[32m61.2/61.2 kB\u001b[0m \u001b[31m1.0 MB/s\u001b[0m eta \u001b[36m0:00:00\u001b[0ma \u001b[36m0:00:01\u001b[0m\n",
      "\u001b[?25hRequirement already satisfied: python-dateutil>=2.8.2 in /srv/conda/envs/notebook/lib/python3.10/site-packages (from pandas) (2.8.2)\n",
      "Requirement already satisfied: pytz>=2020.1 in /srv/conda/envs/notebook/lib/python3.10/site-packages (from pandas) (2023.3.post1)\n",
      "Collecting tzdata>=2022.7 (from pandas)\n",
      "  Obtaining dependency information for tzdata>=2022.7 from https://files.pythonhosted.org/packages/a3/fb/52b62131e21b24ee297e4e95ed41eba29647dad0e0051a92bb66b43c70ff/tzdata-2023.4-py2.py3-none-any.whl.metadata\n",
      "  Downloading tzdata-2023.4-py2.py3-none-any.whl.metadata (1.4 kB)\n",
      "Requirement already satisfied: six>=1.5 in /srv/conda/envs/notebook/lib/python3.10/site-packages (from python-dateutil>=2.8.2->pandas) (1.16.0)\n",
      "Downloading pandas-2.2.0-cp310-cp310-manylinux_2_17_x86_64.manylinux2014_x86_64.whl (13.0 MB)\n",
      "\u001b[2K   \u001b[90m━━━━━━━━━━━━━━━━━━━━━━━━━━━━━━━━━━━━━━━━\u001b[0m \u001b[32m13.0/13.0 MB\u001b[0m \u001b[31m23.6 MB/s\u001b[0m eta \u001b[36m0:00:00\u001b[0m00:01\u001b[0m00:01\u001b[0m\n",
      "\u001b[?25hDownloading numpy-1.26.3-cp310-cp310-manylinux_2_17_x86_64.manylinux2014_x86_64.whl (18.2 MB)\n",
      "\u001b[2K   \u001b[90m━━━━━━━━━━━━━━━━━━━━━━━━━━━━━━━━━━━━━━━━\u001b[0m \u001b[32m18.2/18.2 MB\u001b[0m \u001b[31m18.3 MB/s\u001b[0m eta \u001b[36m0:00:00\u001b[0m00:01\u001b[0m00:01\u001b[0m\n",
      "\u001b[?25hDownloading tzdata-2023.4-py2.py3-none-any.whl (346 kB)\n",
      "\u001b[2K   \u001b[90m━━━━━━━━━━━━━━━━━━━━━━━━━━━━━━━━━━━━━━━━\u001b[0m \u001b[32m346.6/346.6 kB\u001b[0m \u001b[31m29.2 MB/s\u001b[0m eta \u001b[36m0:00:00\u001b[0m\n",
      "\u001b[?25hInstalling collected packages: tzdata, numpy, pandas\n",
      "Successfully installed numpy-1.26.3 pandas-2.2.0 tzdata-2023.4\n"
     ]
    }
   ],
   "source": [
    "!pip install pandas"
   ]
  },
  {
   "cell_type": "code",
   "execution_count": 3,
   "id": "d2b50ea2-8632-4954-89aa-7e195730d517",
   "metadata": {},
   "outputs": [
    {
     "name": "stdout",
     "output_type": "stream",
     "text": [
      "Requirement already satisfied: numpy in /srv/conda/envs/notebook/lib/python3.10/site-packages (1.26.3)\n"
     ]
    }
   ],
   "source": [
    "!pip install numpy"
   ]
  },
  {
   "cell_type": "code",
   "execution_count": 4,
   "id": "b4461dc5-fe56-4e32-b51f-6caf8ae6a003",
   "metadata": {},
   "outputs": [
    {
     "name": "stdout",
     "output_type": "stream",
     "text": [
      "Collecting openpyxl\n",
      "  Downloading openpyxl-3.1.2-py2.py3-none-any.whl (249 kB)\n",
      "\u001b[2K     \u001b[90m━━━━━━━━━━━━━━━━━━━━━━━━━━━━━━━━━━━━━━━\u001b[0m \u001b[32m250.0/250.0 kB\u001b[0m \u001b[31m3.0 MB/s\u001b[0m eta \u001b[36m0:00:00\u001b[0m00:01\u001b[0m00:01\u001b[0m\n",
      "\u001b[?25hCollecting et-xmlfile (from openpyxl)\n",
      "  Downloading et_xmlfile-1.1.0-py3-none-any.whl (4.7 kB)\n",
      "Installing collected packages: et-xmlfile, openpyxl\n",
      "Successfully installed et-xmlfile-1.1.0 openpyxl-3.1.2\n"
     ]
    }
   ],
   "source": [
    "!pip install openpyxl"
   ]
  },
  {
   "cell_type": "code",
   "execution_count": 5,
   "id": "b317239d-a94b-4b94-8f92-5e3f2c63affa",
   "metadata": {},
   "outputs": [
    {
     "name": "stdout",
     "output_type": "stream",
     "text": [
      "Collecting watermark\n",
      "  Obtaining dependency information for watermark from https://files.pythonhosted.org/packages/67/ee/32fec350c20ff060064d058c37df53dd1fad74dfea9532faf2868b0512b5/watermark-2.4.3-py2.py3-none-any.whl.metadata\n",
      "  Downloading watermark-2.4.3-py2.py3-none-any.whl.metadata (1.4 kB)\n",
      "Requirement already satisfied: ipython>=6.0 in /srv/conda/envs/notebook/lib/python3.10/site-packages (from watermark) (8.16.1)\n",
      "Requirement already satisfied: importlib-metadata>=1.4 in /srv/conda/envs/notebook/lib/python3.10/site-packages (from watermark) (6.8.0)\n",
      "Requirement already satisfied: setuptools in /srv/conda/envs/notebook/lib/python3.10/site-packages (from watermark) (68.2.2)\n",
      "Requirement already satisfied: zipp>=0.5 in /srv/conda/envs/notebook/lib/python3.10/site-packages (from importlib-metadata>=1.4->watermark) (3.17.0)\n",
      "Requirement already satisfied: backcall in /srv/conda/envs/notebook/lib/python3.10/site-packages (from ipython>=6.0->watermark) (0.2.0)\n",
      "Requirement already satisfied: decorator in /srv/conda/envs/notebook/lib/python3.10/site-packages (from ipython>=6.0->watermark) (5.1.1)\n",
      "Requirement already satisfied: jedi>=0.16 in /srv/conda/envs/notebook/lib/python3.10/site-packages (from ipython>=6.0->watermark) (0.19.1)\n",
      "Requirement already satisfied: matplotlib-inline in /srv/conda/envs/notebook/lib/python3.10/site-packages (from ipython>=6.0->watermark) (0.1.6)\n",
      "Requirement already satisfied: pickleshare in /srv/conda/envs/notebook/lib/python3.10/site-packages (from ipython>=6.0->watermark) (0.7.5)\n",
      "Requirement already satisfied: prompt-toolkit!=3.0.37,<3.1.0,>=3.0.30 in /srv/conda/envs/notebook/lib/python3.10/site-packages (from ipython>=6.0->watermark) (3.0.39)\n",
      "Requirement already satisfied: pygments>=2.4.0 in /srv/conda/envs/notebook/lib/python3.10/site-packages (from ipython>=6.0->watermark) (2.16.1)\n",
      "Requirement already satisfied: stack-data in /srv/conda/envs/notebook/lib/python3.10/site-packages (from ipython>=6.0->watermark) (0.6.2)\n",
      "Requirement already satisfied: traitlets>=5 in /srv/conda/envs/notebook/lib/python3.10/site-packages (from ipython>=6.0->watermark) (5.11.2)\n",
      "Requirement already satisfied: exceptiongroup in /srv/conda/envs/notebook/lib/python3.10/site-packages (from ipython>=6.0->watermark) (1.1.3)\n",
      "Requirement already satisfied: pexpect>4.3 in /srv/conda/envs/notebook/lib/python3.10/site-packages (from ipython>=6.0->watermark) (4.8.0)\n",
      "Requirement already satisfied: parso<0.9.0,>=0.8.3 in /srv/conda/envs/notebook/lib/python3.10/site-packages (from jedi>=0.16->ipython>=6.0->watermark) (0.8.3)\n",
      "Requirement already satisfied: ptyprocess>=0.5 in /srv/conda/envs/notebook/lib/python3.10/site-packages (from pexpect>4.3->ipython>=6.0->watermark) (0.7.0)\n",
      "Requirement already satisfied: wcwidth in /srv/conda/envs/notebook/lib/python3.10/site-packages (from prompt-toolkit!=3.0.37,<3.1.0,>=3.0.30->ipython>=6.0->watermark) (0.2.8)\n",
      "Requirement already satisfied: executing>=1.2.0 in /srv/conda/envs/notebook/lib/python3.10/site-packages (from stack-data->ipython>=6.0->watermark) (1.2.0)\n",
      "Requirement already satisfied: asttokens>=2.1.0 in /srv/conda/envs/notebook/lib/python3.10/site-packages (from stack-data->ipython>=6.0->watermark) (2.4.0)\n",
      "Requirement already satisfied: pure-eval in /srv/conda/envs/notebook/lib/python3.10/site-packages (from stack-data->ipython>=6.0->watermark) (0.2.2)\n",
      "Requirement already satisfied: six>=1.12.0 in /srv/conda/envs/notebook/lib/python3.10/site-packages (from asttokens>=2.1.0->stack-data->ipython>=6.0->watermark) (1.16.0)\n",
      "Downloading watermark-2.4.3-py2.py3-none-any.whl (7.6 kB)\n",
      "Installing collected packages: watermark\n",
      "Successfully installed watermark-2.4.3\n"
     ]
    }
   ],
   "source": [
    "!pip install watermark"
   ]
  },
  {
   "cell_type": "code",
   "execution_count": 6,
   "id": "19eae0c5-6aa8-42bb-bd73-f4b8c8698c0a",
   "metadata": {},
   "outputs": [
    {
     "name": "stderr",
     "output_type": "stream",
     "text": [
      "/tmp/ipykernel_98/4080736814.py:1: DeprecationWarning: \n",
      "Pyarrow will become a required dependency of pandas in the next major release of pandas (pandas 3.0),\n",
      "(to allow more performant data types, such as the Arrow string type, and better interoperability with other libraries)\n",
      "but was not found to be installed on your system.\n",
      "If this would cause problems for you,\n",
      "please provide us feedback at https://github.com/pandas-dev/pandas/issues/54466\n",
      "        \n",
      "  import pandas as pd\n"
     ]
    }
   ],
   "source": [
    "import pandas as pd"
   ]
  },
  {
   "cell_type": "code",
   "execution_count": 7,
   "id": "1d4b9c91-3736-401c-b8ab-46a31e2128ac",
   "metadata": {},
   "outputs": [],
   "source": [
    "import numpy as np"
   ]
  },
  {
   "cell_type": "code",
   "execution_count": 8,
   "id": "1fba79be-2521-43d2-972a-6965c51d86a3",
   "metadata": {},
   "outputs": [],
   "source": [
    "xlsx = pd.ExcelFile(\"Local Copy of Road Network.xlsx\")"
   ]
  },
  {
   "cell_type": "code",
   "execution_count": 9,
   "id": "ffb0ae6d-bf2d-433b-9b8e-9d78b2337e83",
   "metadata": {},
   "outputs": [],
   "source": [
    "edges = pd.read_excel(xlsx, \"Edges\")"
   ]
  },
  {
   "cell_type": "code",
   "execution_count": 10,
   "id": "d93a2da6-4757-41ad-ae91-5e78c164d8d4",
   "metadata": {},
   "outputs": [],
   "source": [
    "locations=pd.read_excel(xlsx,\"Locations\")"
   ]
  },
  {
   "cell_type": "code",
   "execution_count": 11,
   "id": "e0855371-3d40-4516-bca0-b2fc0913fd80",
   "metadata": {},
   "outputs": [
    {
     "data": {
      "text/html": [
       "<div>\n",
       "<style scoped>\n",
       "    .dataframe tbody tr th:only-of-type {\n",
       "        vertical-align: middle;\n",
       "    }\n",
       "\n",
       "    .dataframe tbody tr th {\n",
       "        vertical-align: top;\n",
       "    }\n",
       "\n",
       "    .dataframe thead th {\n",
       "        text-align: right;\n",
       "    }\n",
       "</style>\n",
       "<table border=\"1\" class=\"dataframe\">\n",
       "  <thead>\n",
       "    <tr style=\"text-align: right;\">\n",
       "      <th></th>\n",
       "      <th>edgeLabel</th>\n",
       "      <th>locationA</th>\n",
       "      <th>locationB</th>\n",
       "      <th>actualDistance</th>\n",
       "      <th>Contributer</th>\n",
       "      <th>Notes</th>\n",
       "    </tr>\n",
       "  </thead>\n",
       "  <tbody>\n",
       "    <tr>\n",
       "      <th>0</th>\n",
       "      <td>Nashville_tofrom_Jackson_on_I40</td>\n",
       "      <td>NashvilleTN</td>\n",
       "      <td>JacksonTN</td>\n",
       "      <td>129.0</td>\n",
       "      <td>IT</td>\n",
       "      <td>IT = the instructional team</td>\n",
       "    </tr>\n",
       "    <tr>\n",
       "      <th>1</th>\n",
       "      <td>Jackson_tofrom_Memphis_on_I40</td>\n",
       "      <td>JacksonTN</td>\n",
       "      <td>MemphisTN</td>\n",
       "      <td>88.0</td>\n",
       "      <td>IT</td>\n",
       "      <td>NaN</td>\n",
       "    </tr>\n",
       "    <tr>\n",
       "      <th>2</th>\n",
       "      <td>Nashville_tofrom_BowlingGreen_on_I65</td>\n",
       "      <td>NashvilleTN</td>\n",
       "      <td>BowlingGreenKY</td>\n",
       "      <td>66.0</td>\n",
       "      <td>IT</td>\n",
       "      <td>NaN</td>\n",
       "    </tr>\n",
       "    <tr>\n",
       "      <th>3</th>\n",
       "      <td>Louisville_tofrom_BowlingGreen_on_I65</td>\n",
       "      <td>LouisvilleKY</td>\n",
       "      <td>BowlingGreenKY</td>\n",
       "      <td>117.0</td>\n",
       "      <td>IT</td>\n",
       "      <td>NaN</td>\n",
       "    </tr>\n",
       "    <tr>\n",
       "      <th>4</th>\n",
       "      <td>Indianapolis_tofrom_Louisville</td>\n",
       "      <td>IndianapolisIN</td>\n",
       "      <td>LouisvilleKY</td>\n",
       "      <td>114.0</td>\n",
       "      <td>IT</td>\n",
       "      <td>NaN</td>\n",
       "    </tr>\n",
       "    <tr>\n",
       "      <th>...</th>\n",
       "      <td>...</td>\n",
       "      <td>...</td>\n",
       "      <td>...</td>\n",
       "      <td>...</td>\n",
       "      <td>...</td>\n",
       "      <td>...</td>\n",
       "    </tr>\n",
       "    <tr>\n",
       "      <th>419</th>\n",
       "      <td>FayettevilleTN_tofrom_AthensAL</td>\n",
       "      <td>FayettevilleTN</td>\n",
       "      <td>AthensAL</td>\n",
       "      <td>49.0</td>\n",
       "      <td>IT</td>\n",
       "      <td>NaN</td>\n",
       "    </tr>\n",
       "    <tr>\n",
       "      <th>420</th>\n",
       "      <td>AthensAL_tofrom_HuntsvilleAL</td>\n",
       "      <td>AthensAL</td>\n",
       "      <td>HuntsvilleAL</td>\n",
       "      <td>34.0</td>\n",
       "      <td>IT</td>\n",
       "      <td>NaN</td>\n",
       "    </tr>\n",
       "    <tr>\n",
       "      <th>421</th>\n",
       "      <td>Dallas_tofrom_Austin</td>\n",
       "      <td>DallasTX</td>\n",
       "      <td>AustinTX</td>\n",
       "      <td>197.0</td>\n",
       "      <td>IT</td>\n",
       "      <td>NaN</td>\n",
       "    </tr>\n",
       "    <tr>\n",
       "      <th>422</th>\n",
       "      <td>Austin_tofrom_ArtesiaWells</td>\n",
       "      <td>AustinTX</td>\n",
       "      <td>ArtesiaWellsTX</td>\n",
       "      <td>179.0</td>\n",
       "      <td>IT</td>\n",
       "      <td>NaN</td>\n",
       "    </tr>\n",
       "    <tr>\n",
       "      <th>423</th>\n",
       "      <td>ArtesiaWells_tofrom_Monterrey</td>\n",
       "      <td>ArtesiaWellsTX</td>\n",
       "      <td>MonterreyNLMexico</td>\n",
       "      <td>194.0</td>\n",
       "      <td>IT</td>\n",
       "      <td>NaN</td>\n",
       "    </tr>\n",
       "  </tbody>\n",
       "</table>\n",
       "<p>424 rows × 6 columns</p>\n",
       "</div>"
      ],
      "text/plain": [
       "                                 edgeLabel       locationA          locationB  \\\n",
       "0          Nashville_tofrom_Jackson_on_I40     NashvilleTN          JacksonTN   \n",
       "1            Jackson_tofrom_Memphis_on_I40       JacksonTN          MemphisTN   \n",
       "2     Nashville_tofrom_BowlingGreen_on_I65     NashvilleTN     BowlingGreenKY   \n",
       "3    Louisville_tofrom_BowlingGreen_on_I65    LouisvilleKY     BowlingGreenKY   \n",
       "4           Indianapolis_tofrom_Louisville  IndianapolisIN       LouisvilleKY   \n",
       "..                                     ...             ...                ...   \n",
       "419         FayettevilleTN_tofrom_AthensAL  FayettevilleTN           AthensAL   \n",
       "420           AthensAL_tofrom_HuntsvilleAL        AthensAL       HuntsvilleAL   \n",
       "421                   Dallas_tofrom_Austin        DallasTX           AustinTX   \n",
       "422             Austin_tofrom_ArtesiaWells        AustinTX     ArtesiaWellsTX   \n",
       "423          ArtesiaWells_tofrom_Monterrey  ArtesiaWellsTX  MonterreyNLMexico   \n",
       "\n",
       "     actualDistance Contributer                        Notes  \n",
       "0             129.0          IT  IT = the instructional team  \n",
       "1              88.0          IT                          NaN  \n",
       "2              66.0          IT                          NaN  \n",
       "3             117.0          IT                          NaN  \n",
       "4             114.0          IT                          NaN  \n",
       "..              ...         ...                          ...  \n",
       "419            49.0          IT                          NaN  \n",
       "420            34.0          IT                          NaN  \n",
       "421           197.0          IT                          NaN  \n",
       "422           179.0          IT                          NaN  \n",
       "423           194.0          IT                          NaN  \n",
       "\n",
       "[424 rows x 6 columns]"
      ]
     },
     "execution_count": 11,
     "metadata": {},
     "output_type": "execute_result"
    }
   ],
   "source": [
    "edges\n"
   ]
  },
  {
   "cell_type": "code",
   "execution_count": 12,
   "id": "4280b64a-0b54-4be5-95c5-331052e691f3",
   "metadata": {},
   "outputs": [
    {
     "name": "stdout",
     "output_type": "stream",
     "text": [
      "<class 'pandas.core.frame.DataFrame'>\n",
      "RangeIndex: 424 entries, 0 to 423\n",
      "Data columns (total 6 columns):\n",
      " #   Column          Non-Null Count  Dtype  \n",
      "---  ------          --------------  -----  \n",
      " 0   edgeLabel       424 non-null    object \n",
      " 1   locationA       424 non-null    object \n",
      " 2   locationB       424 non-null    object \n",
      " 3   actualDistance  424 non-null    float64\n",
      " 4   Contributer     424 non-null    object \n",
      " 5   Notes           3 non-null      object \n",
      "dtypes: float64(1), object(5)\n",
      "memory usage: 20.0+ KB\n"
     ]
    }
   ],
   "source": [
    "edges.info()"
   ]
  },
  {
   "cell_type": "code",
   "execution_count": 13,
   "id": "759de0ad-c19a-497c-847e-e2402c565268",
   "metadata": {},
   "outputs": [],
   "source": [
    "size_loc=len(locations)"
   ]
  },
  {
   "cell_type": "code",
   "execution_count": 14,
   "id": "cd5464dd-4a71-4689-bb88-6e2c50c1e32f",
   "metadata": {},
   "outputs": [
    {
     "data": {
      "text/plain": [
       "248"
      ]
     },
     "execution_count": 14,
     "metadata": {},
     "output_type": "execute_result"
    }
   ],
   "source": [
    "size_loc"
   ]
  },
  {
   "cell_type": "code",
   "execution_count": 15,
   "id": "389766c4-f65c-47ea-8b2e-7b190579dab2",
   "metadata": {},
   "outputs": [],
   "source": [
    "np.random.seed(seed=3)"
   ]
  },
  {
   "cell_type": "code",
   "execution_count": 16,
   "id": "8081b2a3-2151-462c-83b9-f36b737f9cc4",
   "metadata": {},
   "outputs": [],
   "source": [
    " location_preference_assignments=np.random.uniform(low=0.0,high=1.0,size=size_loc)"
   ]
  },
  {
   "cell_type": "code",
   "execution_count": 17,
   "id": "a60f54c1-8471-4e9c-b751-8c0ede7ad066",
   "metadata": {},
   "outputs": [],
   "source": [
    "#mke a func#"
   ]
  },
  {
   "cell_type": "code",
   "execution_count": 18,
   "id": "2d2779cc-9583-4d20-9d85-b5401970eedd",
   "metadata": {},
   "outputs": [],
   "source": [
    "size_edge=len(edges)"
   ]
  },
  {
   "cell_type": "code",
   "execution_count": 19,
   "id": "67dc5c3f-e192-4d7e-8471-b5f977b31ee8",
   "metadata": {},
   "outputs": [],
   "source": [
    " edge_preference_assignments =np.random.uniform(low=0.0,high=0.1,size=size_edge)"
   ]
  },
  {
   "cell_type": "code",
   "execution_count": 20,
   "id": "1ccfd9f2-d88d-41de-9c76-66e9d5af2cc6",
   "metadata": {},
   "outputs": [
    {
     "data": {
      "text/plain": [
       "424"
      ]
     },
     "execution_count": 20,
     "metadata": {},
     "output_type": "execute_result"
    }
   ],
   "source": [
    "len(edges)"
   ]
  },
  {
   "cell_type": "code",
   "execution_count": 21,
   "id": "7008eba5-3a46-458a-893a-b490a2a415c1",
   "metadata": {},
   "outputs": [],
   "source": [
    "edges[\"Preference\"]= edge_preference_assignments"
   ]
  },
  {
   "cell_type": "code",
   "execution_count": 22,
   "id": "cb50e20a-fb4f-4a29-a366-b111df587d42",
   "metadata": {},
   "outputs": [],
   "source": [
    "locations['Preference']=location_preference_assignments"
   ]
  },
  {
   "cell_type": "code",
   "execution_count": 23,
   "id": "017b1dd0-f947-461e-8284-44626f0cf406",
   "metadata": {},
   "outputs": [
    {
     "data": {
      "text/html": [
       "<div>\n",
       "<style scoped>\n",
       "    .dataframe tbody tr th:only-of-type {\n",
       "        vertical-align: middle;\n",
       "    }\n",
       "\n",
       "    .dataframe tbody tr th {\n",
       "        vertical-align: top;\n",
       "    }\n",
       "\n",
       "    .dataframe thead th {\n",
       "        text-align: right;\n",
       "    }\n",
       "</style>\n",
       "<table border=\"1\" class=\"dataframe\">\n",
       "  <thead>\n",
       "    <tr style=\"text-align: right;\">\n",
       "      <th></th>\n",
       "      <th>Location Label</th>\n",
       "      <th>Latitude</th>\n",
       "      <th>Longitude</th>\n",
       "      <th>Contributer</th>\n",
       "      <th>Notes</th>\n",
       "      <th>Preference</th>\n",
       "    </tr>\n",
       "  </thead>\n",
       "  <tbody>\n",
       "    <tr>\n",
       "      <th>0</th>\n",
       "      <td>NashvilleTN</td>\n",
       "      <td>36.174465</td>\n",
       "      <td>-86.767960</td>\n",
       "      <td>IT</td>\n",
       "      <td>IT = the instructional team</td>\n",
       "      <td>0.550798</td>\n",
       "    </tr>\n",
       "    <tr>\n",
       "      <th>1</th>\n",
       "      <td>MemphisTN</td>\n",
       "      <td>35.117500</td>\n",
       "      <td>-89.971107</td>\n",
       "      <td>IT</td>\n",
       "      <td>NaN</td>\n",
       "      <td>0.708148</td>\n",
       "    </tr>\n",
       "    <tr>\n",
       "      <th>2</th>\n",
       "      <td>JacksonTN</td>\n",
       "      <td>35.614517</td>\n",
       "      <td>-88.813947</td>\n",
       "      <td>IT</td>\n",
       "      <td>NaN</td>\n",
       "      <td>0.290905</td>\n",
       "    </tr>\n",
       "    <tr>\n",
       "      <th>3</th>\n",
       "      <td>SanJoseCA</td>\n",
       "      <td>37.338700</td>\n",
       "      <td>-121.885250</td>\n",
       "      <td>IT</td>\n",
       "      <td>NaN</td>\n",
       "      <td>0.510828</td>\n",
       "    </tr>\n",
       "    <tr>\n",
       "      <th>4</th>\n",
       "      <td>LouisvilleKY</td>\n",
       "      <td>38.252660</td>\n",
       "      <td>-85.758450</td>\n",
       "      <td>IT</td>\n",
       "      <td>NaN</td>\n",
       "      <td>0.892947</td>\n",
       "    </tr>\n",
       "  </tbody>\n",
       "</table>\n",
       "</div>"
      ],
      "text/plain": [
       "  Location Label   Latitude   Longitude Contributer  \\\n",
       "0    NashvilleTN  36.174465  -86.767960          IT   \n",
       "1      MemphisTN  35.117500  -89.971107          IT   \n",
       "2      JacksonTN  35.614517  -88.813947          IT   \n",
       "3      SanJoseCA  37.338700 -121.885250          IT   \n",
       "4   LouisvilleKY  38.252660  -85.758450          IT   \n",
       "\n",
       "                         Notes  Preference  \n",
       "0  IT = the instructional team    0.550798  \n",
       "1                          NaN    0.708148  \n",
       "2                          NaN    0.290905  \n",
       "3                          NaN    0.510828  \n",
       "4                          NaN    0.892947  "
      ]
     },
     "execution_count": 23,
     "metadata": {},
     "output_type": "execute_result"
    }
   ],
   "source": [
    "locations.head()"
   ]
  },
  {
   "cell_type": "code",
   "execution_count": 24,
   "id": "e968a958-24c5-4376-a95c-c3bccd98ea15",
   "metadata": {},
   "outputs": [
    {
     "data": {
      "text/html": [
       "<div>\n",
       "<style scoped>\n",
       "    .dataframe tbody tr th:only-of-type {\n",
       "        vertical-align: middle;\n",
       "    }\n",
       "\n",
       "    .dataframe tbody tr th {\n",
       "        vertical-align: top;\n",
       "    }\n",
       "\n",
       "    .dataframe thead th {\n",
       "        text-align: right;\n",
       "    }\n",
       "</style>\n",
       "<table border=\"1\" class=\"dataframe\">\n",
       "  <thead>\n",
       "    <tr style=\"text-align: right;\">\n",
       "      <th></th>\n",
       "      <th>edgeLabel</th>\n",
       "      <th>locationA</th>\n",
       "      <th>locationB</th>\n",
       "      <th>actualDistance</th>\n",
       "      <th>Contributer</th>\n",
       "      <th>Notes</th>\n",
       "      <th>Preference</th>\n",
       "    </tr>\n",
       "  </thead>\n",
       "  <tbody>\n",
       "    <tr>\n",
       "      <th>0</th>\n",
       "      <td>Nashville_tofrom_Jackson_on_I40</td>\n",
       "      <td>NashvilleTN</td>\n",
       "      <td>JacksonTN</td>\n",
       "      <td>129.0</td>\n",
       "      <td>IT</td>\n",
       "      <td>IT = the instructional team</td>\n",
       "      <td>0.029469</td>\n",
       "    </tr>\n",
       "    <tr>\n",
       "      <th>1</th>\n",
       "      <td>Jackson_tofrom_Memphis_on_I40</td>\n",
       "      <td>JacksonTN</td>\n",
       "      <td>MemphisTN</td>\n",
       "      <td>88.0</td>\n",
       "      <td>IT</td>\n",
       "      <td>NaN</td>\n",
       "      <td>0.098811</td>\n",
       "    </tr>\n",
       "    <tr>\n",
       "      <th>2</th>\n",
       "      <td>Nashville_tofrom_BowlingGreen_on_I65</td>\n",
       "      <td>NashvilleTN</td>\n",
       "      <td>BowlingGreenKY</td>\n",
       "      <td>66.0</td>\n",
       "      <td>IT</td>\n",
       "      <td>NaN</td>\n",
       "      <td>0.097122</td>\n",
       "    </tr>\n",
       "    <tr>\n",
       "      <th>3</th>\n",
       "      <td>Louisville_tofrom_BowlingGreen_on_I65</td>\n",
       "      <td>LouisvilleKY</td>\n",
       "      <td>BowlingGreenKY</td>\n",
       "      <td>117.0</td>\n",
       "      <td>IT</td>\n",
       "      <td>NaN</td>\n",
       "      <td>0.048185</td>\n",
       "    </tr>\n",
       "    <tr>\n",
       "      <th>4</th>\n",
       "      <td>Indianapolis_tofrom_Louisville</td>\n",
       "      <td>IndianapolisIN</td>\n",
       "      <td>LouisvilleKY</td>\n",
       "      <td>114.0</td>\n",
       "      <td>IT</td>\n",
       "      <td>NaN</td>\n",
       "      <td>0.073569</td>\n",
       "    </tr>\n",
       "  </tbody>\n",
       "</table>\n",
       "</div>"
      ],
      "text/plain": [
       "                               edgeLabel       locationA       locationB  \\\n",
       "0        Nashville_tofrom_Jackson_on_I40     NashvilleTN       JacksonTN   \n",
       "1          Jackson_tofrom_Memphis_on_I40       JacksonTN       MemphisTN   \n",
       "2   Nashville_tofrom_BowlingGreen_on_I65     NashvilleTN  BowlingGreenKY   \n",
       "3  Louisville_tofrom_BowlingGreen_on_I65    LouisvilleKY  BowlingGreenKY   \n",
       "4         Indianapolis_tofrom_Louisville  IndianapolisIN    LouisvilleKY   \n",
       "\n",
       "   actualDistance Contributer                        Notes  Preference  \n",
       "0           129.0          IT  IT = the instructional team    0.029469  \n",
       "1            88.0          IT                          NaN    0.098811  \n",
       "2            66.0          IT                          NaN    0.097122  \n",
       "3           117.0          IT                          NaN    0.048185  \n",
       "4           114.0          IT                          NaN    0.073569  "
      ]
     },
     "execution_count": 24,
     "metadata": {},
     "output_type": "execute_result"
    }
   ],
   "source": [
    "edges.head()"
   ]
  },
  {
   "cell_type": "markdown",
   "id": "042a4bbf-b395-4003-bc7b-c0801ee7766f",
   "metadata": {},
   "source": [
    "Creating a id for our dataset to allow us to easily tag roads and location"
   ]
  },
  {
   "cell_type": "code",
   "execution_count": 31,
   "id": "393c46b9-c89c-4d16-81ac-2f2db40e212c",
   "metadata": {
    "tags": []
   },
   "outputs": [],
   "source": [
    "loc_id=np.array([i for i in range(1,size_loc+1)])"
   ]
  },
  {
   "cell_type": "code",
   "execution_count": 62,
   "id": "9251cc22-e7b0-4c4b-94d7-c769d9081ad6",
   "metadata": {
    "tags": []
   },
   "outputs": [],
   "source": [
    "edge_id=np.array([i for i in range(1,size_edge+1)])"
   ]
  },
  {
   "cell_type": "code",
   "execution_count": 32,
   "id": "0f569697-fd08-41c0-9638-eb7cce717694",
   "metadata": {
    "tags": []
   },
   "outputs": [],
   "source": [
    "locations['id']=loc_id"
   ]
  },
  {
   "cell_type": "code",
   "execution_count": 63,
   "id": "f7272a9a-352c-4cb8-9e66-f1151249cbc8",
   "metadata": {
    "tags": []
   },
   "outputs": [],
   "source": [
    "edges['id']=edge_id"
   ]
  },
  {
   "cell_type": "code",
   "execution_count": 65,
   "id": "2408d05d-d1e8-4cc5-92d1-5d2cada38f76",
   "metadata": {
    "tags": []
   },
   "outputs": [
    {
     "data": {
      "text/html": [
       "<div>\n",
       "<style scoped>\n",
       "    .dataframe tbody tr th:only-of-type {\n",
       "        vertical-align: middle;\n",
       "    }\n",
       "\n",
       "    .dataframe tbody tr th {\n",
       "        vertical-align: top;\n",
       "    }\n",
       "\n",
       "    .dataframe thead th {\n",
       "        text-align: right;\n",
       "    }\n",
       "</style>\n",
       "<table border=\"1\" class=\"dataframe\">\n",
       "  <thead>\n",
       "    <tr style=\"text-align: right;\">\n",
       "      <th></th>\n",
       "      <th>edgeLabel</th>\n",
       "      <th>locationA</th>\n",
       "      <th>locationB</th>\n",
       "      <th>actualDistance</th>\n",
       "      <th>Contributer</th>\n",
       "      <th>Notes</th>\n",
       "      <th>Preference</th>\n",
       "      <th>id</th>\n",
       "    </tr>\n",
       "  </thead>\n",
       "  <tbody>\n",
       "    <tr>\n",
       "      <th>0</th>\n",
       "      <td>Nashville_tofrom_Jackson_on_I40</td>\n",
       "      <td>NashvilleTN</td>\n",
       "      <td>JacksonTN</td>\n",
       "      <td>129.0</td>\n",
       "      <td>IT</td>\n",
       "      <td>IT = the instructional team</td>\n",
       "      <td>0.029469</td>\n",
       "      <td>1</td>\n",
       "    </tr>\n",
       "    <tr>\n",
       "      <th>1</th>\n",
       "      <td>Jackson_tofrom_Memphis_on_I40</td>\n",
       "      <td>JacksonTN</td>\n",
       "      <td>MemphisTN</td>\n",
       "      <td>88.0</td>\n",
       "      <td>IT</td>\n",
       "      <td>NaN</td>\n",
       "      <td>0.098811</td>\n",
       "      <td>2</td>\n",
       "    </tr>\n",
       "    <tr>\n",
       "      <th>2</th>\n",
       "      <td>Nashville_tofrom_BowlingGreen_on_I65</td>\n",
       "      <td>NashvilleTN</td>\n",
       "      <td>BowlingGreenKY</td>\n",
       "      <td>66.0</td>\n",
       "      <td>IT</td>\n",
       "      <td>NaN</td>\n",
       "      <td>0.097122</td>\n",
       "      <td>3</td>\n",
       "    </tr>\n",
       "    <tr>\n",
       "      <th>3</th>\n",
       "      <td>Louisville_tofrom_BowlingGreen_on_I65</td>\n",
       "      <td>LouisvilleKY</td>\n",
       "      <td>BowlingGreenKY</td>\n",
       "      <td>117.0</td>\n",
       "      <td>IT</td>\n",
       "      <td>NaN</td>\n",
       "      <td>0.048185</td>\n",
       "      <td>4</td>\n",
       "    </tr>\n",
       "    <tr>\n",
       "      <th>4</th>\n",
       "      <td>Indianapolis_tofrom_Louisville</td>\n",
       "      <td>IndianapolisIN</td>\n",
       "      <td>LouisvilleKY</td>\n",
       "      <td>114.0</td>\n",
       "      <td>IT</td>\n",
       "      <td>NaN</td>\n",
       "      <td>0.073569</td>\n",
       "      <td>5</td>\n",
       "    </tr>\n",
       "  </tbody>\n",
       "</table>\n",
       "</div>"
      ],
      "text/plain": [
       "                               edgeLabel       locationA       locationB  \\\n",
       "0        Nashville_tofrom_Jackson_on_I40     NashvilleTN       JacksonTN   \n",
       "1          Jackson_tofrom_Memphis_on_I40       JacksonTN       MemphisTN   \n",
       "2   Nashville_tofrom_BowlingGreen_on_I65     NashvilleTN  BowlingGreenKY   \n",
       "3  Louisville_tofrom_BowlingGreen_on_I65    LouisvilleKY  BowlingGreenKY   \n",
       "4         Indianapolis_tofrom_Louisville  IndianapolisIN    LouisvilleKY   \n",
       "\n",
       "   actualDistance Contributer                        Notes  Preference  id  \n",
       "0           129.0          IT  IT = the instructional team    0.029469   1  \n",
       "1            88.0          IT                          NaN    0.098811   2  \n",
       "2            66.0          IT                          NaN    0.097122   3  \n",
       "3           117.0          IT                          NaN    0.048185   4  \n",
       "4           114.0          IT                          NaN    0.073569   5  "
      ]
     },
     "execution_count": 65,
     "metadata": {},
     "output_type": "execute_result"
    }
   ],
   "source": [
    "edges.head()"
   ]
  },
  {
   "cell_type": "code",
   "execution_count": 33,
   "id": "00d70a7b-7756-4984-b1e1-f3e6e324cdb1",
   "metadata": {
    "tags": []
   },
   "outputs": [
    {
     "data": {
      "text/html": [
       "<div>\n",
       "<style scoped>\n",
       "    .dataframe tbody tr th:only-of-type {\n",
       "        vertical-align: middle;\n",
       "    }\n",
       "\n",
       "    .dataframe tbody tr th {\n",
       "        vertical-align: top;\n",
       "    }\n",
       "\n",
       "    .dataframe thead th {\n",
       "        text-align: right;\n",
       "    }\n",
       "</style>\n",
       "<table border=\"1\" class=\"dataframe\">\n",
       "  <thead>\n",
       "    <tr style=\"text-align: right;\">\n",
       "      <th></th>\n",
       "      <th>Location Label</th>\n",
       "      <th>Latitude</th>\n",
       "      <th>Longitude</th>\n",
       "      <th>Contributer</th>\n",
       "      <th>Notes</th>\n",
       "      <th>Preference</th>\n",
       "      <th>id</th>\n",
       "    </tr>\n",
       "  </thead>\n",
       "  <tbody>\n",
       "    <tr>\n",
       "      <th>0</th>\n",
       "      <td>NashvilleTN</td>\n",
       "      <td>36.174465</td>\n",
       "      <td>-86.767960</td>\n",
       "      <td>IT</td>\n",
       "      <td>IT = the instructional team</td>\n",
       "      <td>0.550798</td>\n",
       "      <td>1</td>\n",
       "    </tr>\n",
       "    <tr>\n",
       "      <th>1</th>\n",
       "      <td>MemphisTN</td>\n",
       "      <td>35.117500</td>\n",
       "      <td>-89.971107</td>\n",
       "      <td>IT</td>\n",
       "      <td>NaN</td>\n",
       "      <td>0.708148</td>\n",
       "      <td>2</td>\n",
       "    </tr>\n",
       "    <tr>\n",
       "      <th>2</th>\n",
       "      <td>JacksonTN</td>\n",
       "      <td>35.614517</td>\n",
       "      <td>-88.813947</td>\n",
       "      <td>IT</td>\n",
       "      <td>NaN</td>\n",
       "      <td>0.290905</td>\n",
       "      <td>3</td>\n",
       "    </tr>\n",
       "    <tr>\n",
       "      <th>3</th>\n",
       "      <td>SanJoseCA</td>\n",
       "      <td>37.338700</td>\n",
       "      <td>-121.885250</td>\n",
       "      <td>IT</td>\n",
       "      <td>NaN</td>\n",
       "      <td>0.510828</td>\n",
       "      <td>4</td>\n",
       "    </tr>\n",
       "    <tr>\n",
       "      <th>4</th>\n",
       "      <td>LouisvilleKY</td>\n",
       "      <td>38.252660</td>\n",
       "      <td>-85.758450</td>\n",
       "      <td>IT</td>\n",
       "      <td>NaN</td>\n",
       "      <td>0.892947</td>\n",
       "      <td>5</td>\n",
       "    </tr>\n",
       "  </tbody>\n",
       "</table>\n",
       "</div>"
      ],
      "text/plain": [
       "  Location Label   Latitude   Longitude Contributer  \\\n",
       "0    NashvilleTN  36.174465  -86.767960          IT   \n",
       "1      MemphisTN  35.117500  -89.971107          IT   \n",
       "2      JacksonTN  35.614517  -88.813947          IT   \n",
       "3      SanJoseCA  37.338700 -121.885250          IT   \n",
       "4   LouisvilleKY  38.252660  -85.758450          IT   \n",
       "\n",
       "                         Notes  Preference  id  \n",
       "0  IT = the instructional team    0.550798   1  \n",
       "1                          NaN    0.708148   2  \n",
       "2                          NaN    0.290905   3  \n",
       "3                          NaN    0.510828   4  \n",
       "4                          NaN    0.892947   5  "
      ]
     },
     "execution_count": 33,
     "metadata": {},
     "output_type": "execute_result"
    }
   ],
   "source": [
    "locations.head()"
   ]
  },
  {
   "cell_type": "markdown",
   "id": "25eaccbc-9c11-445e-9d0c-819ac6859a7c",
   "metadata": {},
   "source": [
    "How do we select elements of a certain id in pandas?"
   ]
  },
  {
   "cell_type": "code",
   "execution_count": 50,
   "id": "f4576a0c-4215-4870-9d45-e74657adb91f",
   "metadata": {
    "tags": []
   },
   "outputs": [],
   "source": [
    "t=locations[locations['id']==1]['Preference']"
   ]
  },
  {
   "cell_type": "code",
   "execution_count": 51,
   "id": "fb1e93ed-7351-4f29-87e7-a5d31901c1dc",
   "metadata": {
    "tags": []
   },
   "outputs": [
    {
     "data": {
      "text/plain": [
       "0    0.550798\n",
       "Name: Preference, dtype: float64"
      ]
     },
     "execution_count": 51,
     "metadata": {},
     "output_type": "execute_result"
    }
   ],
   "source": [
    "t"
   ]
  },
  {
   "cell_type": "markdown",
   "id": "006edf09-95ff-4ef8-9518-0e00219fc5ce",
   "metadata": {},
   "source": [
    "How do we select a row if we have a bunch of values of id ? "
   ]
  },
  {
   "cell_type": "code",
   "execution_count": 27,
   "id": "d949eaa4-4375-4a3f-99f9-bbc09226d594",
   "metadata": {},
   "outputs": [
    {
     "name": "stdout",
     "output_type": "stream",
     "text": [
      "numpy : 1.26.3\n",
      "pandas: 2.2.0\n",
      "\n"
     ]
    }
   ],
   "source": [
    "%watermark --iversions"
   ]
  },
  {
   "cell_type": "code",
   "execution_count": 52,
   "id": "fc528b5e-329e-41c0-8c6c-ad7eb421906a",
   "metadata": {
    "tags": []
   },
   "outputs": [],
   "source": [
    "ids=[1,2,3,4,5,6,7]"
   ]
  },
  {
   "cell_type": "code",
   "execution_count": 55,
   "id": "448e6695-21e7-4d9f-8715-43727a9ecd2e",
   "metadata": {
    "tags": []
   },
   "outputs": [
    {
     "data": {
      "text/plain": [
       "0    0.550798\n",
       "1    0.708148\n",
       "2    0.290905\n",
       "3    0.510828\n",
       "4    0.892947\n",
       "5    0.896293\n",
       "6    0.125585\n",
       "Name: Preference, dtype: float64"
      ]
     },
     "execution_count": 55,
     "metadata": {},
     "output_type": "execute_result"
    }
   ],
   "source": [
    "locations[locations['id'].isin(ids)]['Preference']"
   ]
  },
  {
   "cell_type": "markdown",
   "id": "57e89939-24a9-44e9-86b6-4a40da327743",
   "metadata": {},
   "source": [
    "we gotta sum the one up tho!!!"
   ]
  },
  {
   "cell_type": "markdown",
   "id": "792ce214-bc16-4edf-8342-8bd2a3685d64",
   "metadata": {},
   "source": [
    "How do we select locations based on the edge ids??\n",
    "get locids from edge ids???"
   ]
  },
  {
   "cell_type": "code",
   "execution_count": 57,
   "id": "d83c7354-c443-411a-aad4-2dcbe7a9669e",
   "metadata": {
    "tags": []
   },
   "outputs": [],
   "source": [
    "col='id'"
   ]
  },
  {
   "cell_type": "code",
   "execution_count": 59,
   "id": "34cb6a7c-5c8e-44ed-ace2-b231a9eb7089",
   "metadata": {
    "tags": []
   },
   "outputs": [
    {
     "data": {
      "text/html": [
       "<div>\n",
       "<style scoped>\n",
       "    .dataframe tbody tr th:only-of-type {\n",
       "        vertical-align: middle;\n",
       "    }\n",
       "\n",
       "    .dataframe tbody tr th {\n",
       "        vertical-align: top;\n",
       "    }\n",
       "\n",
       "    .dataframe thead th {\n",
       "        text-align: right;\n",
       "    }\n",
       "</style>\n",
       "<table border=\"1\" class=\"dataframe\">\n",
       "  <thead>\n",
       "    <tr style=\"text-align: right;\">\n",
       "      <th></th>\n",
       "      <th>Location Label</th>\n",
       "      <th>Latitude</th>\n",
       "      <th>Longitude</th>\n",
       "      <th>Contributer</th>\n",
       "      <th>Notes</th>\n",
       "      <th>Preference</th>\n",
       "      <th>id</th>\n",
       "    </tr>\n",
       "  </thead>\n",
       "  <tbody>\n",
       "    <tr>\n",
       "      <th>0</th>\n",
       "      <td>NashvilleTN</td>\n",
       "      <td>36.174465</td>\n",
       "      <td>-86.767960</td>\n",
       "      <td>IT</td>\n",
       "      <td>IT = the instructional team</td>\n",
       "      <td>0.550798</td>\n",
       "      <td>1</td>\n",
       "    </tr>\n",
       "    <tr>\n",
       "      <th>1</th>\n",
       "      <td>MemphisTN</td>\n",
       "      <td>35.117500</td>\n",
       "      <td>-89.971107</td>\n",
       "      <td>IT</td>\n",
       "      <td>NaN</td>\n",
       "      <td>0.708148</td>\n",
       "      <td>2</td>\n",
       "    </tr>\n",
       "    <tr>\n",
       "      <th>2</th>\n",
       "      <td>JacksonTN</td>\n",
       "      <td>35.614517</td>\n",
       "      <td>-88.813947</td>\n",
       "      <td>IT</td>\n",
       "      <td>NaN</td>\n",
       "      <td>0.290905</td>\n",
       "      <td>3</td>\n",
       "    </tr>\n",
       "    <tr>\n",
       "      <th>3</th>\n",
       "      <td>SanJoseCA</td>\n",
       "      <td>37.338700</td>\n",
       "      <td>-121.885250</td>\n",
       "      <td>IT</td>\n",
       "      <td>NaN</td>\n",
       "      <td>0.510828</td>\n",
       "      <td>4</td>\n",
       "    </tr>\n",
       "    <tr>\n",
       "      <th>4</th>\n",
       "      <td>LouisvilleKY</td>\n",
       "      <td>38.252660</td>\n",
       "      <td>-85.758450</td>\n",
       "      <td>IT</td>\n",
       "      <td>NaN</td>\n",
       "      <td>0.892947</td>\n",
       "      <td>5</td>\n",
       "    </tr>\n",
       "    <tr>\n",
       "      <th>5</th>\n",
       "      <td>BowlingGreenKY</td>\n",
       "      <td>36.968520</td>\n",
       "      <td>-86.480800</td>\n",
       "      <td>IT</td>\n",
       "      <td>NaN</td>\n",
       "      <td>0.896293</td>\n",
       "      <td>6</td>\n",
       "    </tr>\n",
       "    <tr>\n",
       "      <th>6</th>\n",
       "      <td>IndianapolisIN</td>\n",
       "      <td>39.768400</td>\n",
       "      <td>-86.158060</td>\n",
       "      <td>IT</td>\n",
       "      <td>NaN</td>\n",
       "      <td>0.125585</td>\n",
       "      <td>7</td>\n",
       "    </tr>\n",
       "  </tbody>\n",
       "</table>\n",
       "</div>"
      ],
      "text/plain": [
       "   Location Label   Latitude   Longitude Contributer  \\\n",
       "0     NashvilleTN  36.174465  -86.767960          IT   \n",
       "1       MemphisTN  35.117500  -89.971107          IT   \n",
       "2       JacksonTN  35.614517  -88.813947          IT   \n",
       "3       SanJoseCA  37.338700 -121.885250          IT   \n",
       "4    LouisvilleKY  38.252660  -85.758450          IT   \n",
       "5  BowlingGreenKY  36.968520  -86.480800          IT   \n",
       "6  IndianapolisIN  39.768400  -86.158060          IT   \n",
       "\n",
       "                         Notes  Preference  id  \n",
       "0  IT = the instructional team    0.550798   1  \n",
       "1                          NaN    0.708148   2  \n",
       "2                          NaN    0.290905   3  \n",
       "3                          NaN    0.510828   4  \n",
       "4                          NaN    0.892947   5  \n",
       "5                          NaN    0.896293   6  \n",
       "6                          NaN    0.125585   7  "
      ]
     },
     "execution_count": 59,
     "metadata": {},
     "output_type": "execute_result"
    }
   ],
   "source": [
    "locations[locations[col].isin(ids)]"
   ]
  },
  {
   "cell_type": "markdown",
   "id": "2b24f845-cb8a-4542-bea1-5f6f66274c95",
   "metadata": {},
   "source": [
    "we kinda found pref values for every data frame but this query has the potential to be optimized"
   ]
  },
  {
   "cell_type": "markdown",
   "id": "2c6dd1e7-ced5-4959-8897-8763f7086892",
   "metadata": {},
   "source": [
    "total_preference() : \n",
    "takes values for a particular edge column : (like the labels for the visited edges), \n",
    "and the column name : (shuld be in edge)\n",
    "it returns the : tot_pref=edge_pref+start_loc_pref+end_loc_pref; for every value associated with the column"
   ]
  },
  {
   "cell_type": "code",
   "execution_count": 78,
   "id": "e640f90a-07a4-4fa5-80fc-2906966b3500",
   "metadata": {
    "tags": []
   },
   "outputs": [],
   "source": [
    "def total_preference(values,col):\n",
    "    edges_considered=edges[edges[col].isin(values)]    \n",
    "    return sum(edges_considered['Preference'])+sum(locations[locations['Location Label'].isin(pd.concat([edges_considered['locationA'], edges_considered['locationB']], axis=0))]['Preference'])\n",
    "       \n",
    "    "
   ]
  },
  {
   "cell_type": "code",
   "execution_count": 79,
   "id": "5265ebbe-0dee-492c-b5d4-cc8230c2198d",
   "metadata": {
    "tags": []
   },
   "outputs": [
    {
     "data": {
      "text/plain": [
       "4.286155064621903"
      ]
     },
     "execution_count": 79,
     "metadata": {},
     "output_type": "execute_result"
    }
   ],
   "source": [
    "total_preference(ids,col)"
   ]
  },
  {
   "cell_type": "code",
   "execution_count": 26,
   "id": "32b2531e-428b-4311-a00c-5f9bdbd0b8d1",
   "metadata": {
    "tags": []
   },
   "outputs": [
    {
     "name": "stdout",
     "output_type": "stream",
     "text": [
      "Python implementation: CPython\n",
      "Python version       : 3.10.12\n",
      "IPython version      : 8.16.1\n",
      "\n",
      "wget     : not installed\n",
      "pandas   : 2.2.0\n",
      "numpy    : 1.26.3\n",
      "openpyxl : 3.1.2\n",
      "watermark: 2.4.3\n",
      "\n",
      "Compiler    : GCC 12.3.0\n",
      "OS          : Linux\n",
      "Release     : 5.15.0-79-generic\n",
      "Machine     : x86_64\n",
      "Processor   : x86_64\n",
      "CPU cores   : 72\n",
      "Architecture: 64bit\n",
      "\n",
      "\n",
      "Last updated: Fri Jan 26 2024 23:56:07UTC\n",
      "\n"
     ]
    }
   ],
   "source": [
    "%load_ext watermark\n",
    "%watermark -v -m -p wget,pandas,numpy,openpyxl,watermark \n",
    "#needpackages and version\n",
    "print(\"\")\n",
    "%watermark -u -n -t -z\n"
   ]
  }
 ],
 "metadata": {
  "kernelspec": {
   "display_name": "Python 3 (ipykernel)",
   "language": "python",
   "name": "python3"
  },
  "language_info": {
   "codemirror_mode": {
    "name": "ipython",
    "version": 3
   },
   "file_extension": ".py",
   "mimetype": "text/x-python",
   "name": "python",
   "nbconvert_exporter": "python",
   "pygments_lexer": "ipython3",
   "version": "3.10.12"
  }
 },
 "nbformat": 4,
 "nbformat_minor": 5
}
