{
 "cells": [
  {
   "cell_type": "code",
   "execution_count": 1,
   "id": "3c55efcb-8fc3-4a6b-a22c-10085d02baf0",
   "metadata": {},
   "outputs": [
    {
     "name": "stdout",
     "output_type": "stream",
     "text": [
      "Hi\n"
     ]
    }
   ],
   "source": [
    "print(\"Hi\")"
   ]
  },
  {
   "cell_type": "code",
   "execution_count": 3,
   "id": "2de0b1c3-d69d-42c9-969b-ae4cc347b9ef",
   "metadata": {},
   "outputs": [
    {
     "name": "stdout",
     "output_type": "stream",
     "text": [
      "Collecting pandas\n",
      "  Downloading pandas-2.2.0-cp312-cp312-win_amd64.whl.metadata (19 kB)\n",
      "Requirement already satisfied: numpy<2,>=1.26.0 in c:\\python312\\lib\\site-packages (from pandas) (1.26.2)\n",
      "Requirement already satisfied: python-dateutil>=2.8.2 in c:\\python312\\lib\\site-packages (from pandas) (2.8.2)\n",
      "Collecting pytz>=2020.1 (from pandas)\n",
      "  Downloading pytz-2023.3.post1-py2.py3-none-any.whl.metadata (22 kB)\n",
      "Collecting tzdata>=2022.7 (from pandas)\n",
      "  Downloading tzdata-2023.4-py2.py3-none-any.whl.metadata (1.4 kB)\n",
      "Requirement already satisfied: six>=1.5 in c:\\python312\\lib\\site-packages (from python-dateutil>=2.8.2->pandas) (1.16.0)\n",
      "Downloading pandas-2.2.0-cp312-cp312-win_amd64.whl (11.5 MB)\n",
      "   ---------------------------------------- 0.0/11.5 MB ? eta -:--:--\n",
      "   ---------------------------------------- 0.0/11.5 MB 991.0 kB/s eta 0:00:12\n",
      "    --------------------------------------- 0.2/11.5 MB 2.5 MB/s eta 0:00:05\n",
      "   -- ------------------------------------- 0.6/11.5 MB 4.1 MB/s eta 0:00:03\n",
      "   ----- ---------------------------------- 1.4/11.5 MB 7.6 MB/s eta 0:00:02\n",
      "   ----------- ---------------------------- 3.4/11.5 MB 14.4 MB/s eta 0:00:01\n",
      "   --------------------- ------------------ 6.2/11.5 MB 21.9 MB/s eta 0:00:01\n",
      "   ------------------------------ --------- 8.6/11.5 MB 27.5 MB/s eta 0:00:01\n",
      "   ------------------------------ --------- 8.6/11.5 MB 27.5 MB/s eta 0:00:01\n",
      "   ---------------------------------------- 11.5/11.5 MB 43.7 MB/s eta 0:00:00\n",
      "Downloading pytz-2023.3.post1-py2.py3-none-any.whl (502 kB)\n",
      "   ---------------------------------------- 0.0/502.5 kB ? eta -:--:--\n",
      "   ---------------------------------------- 502.5/502.5 kB ? eta 0:00:00\n",
      "Downloading tzdata-2023.4-py2.py3-none-any.whl (346 kB)\n",
      "   ---------------------------------------- 0.0/346.6 kB ? eta -:--:--\n",
      "   ---------------------------------------- 346.6/346.6 kB ? eta 0:00:00\n",
      "Installing collected packages: pytz, tzdata, pandas\n",
      "Successfully installed pandas-2.2.0 pytz-2023.3.post1 tzdata-2023.4\n"
     ]
    }
   ],
   "source": [
    "!pip install pandas"
   ]
  },
  {
   "cell_type": "code",
   "execution_count": 4,
   "id": "d2b50ea2-8632-4954-89aa-7e195730d517",
   "metadata": {},
   "outputs": [
    {
     "name": "stdout",
     "output_type": "stream",
     "text": [
      "Requirement already satisfied: numpy in c:\\python312\\lib\\site-packages (1.26.2)\n"
     ]
    }
   ],
   "source": [
    "!pip install numpy"
   ]
  },
  {
   "cell_type": "code",
   "execution_count": 9,
   "id": "b4461dc5-fe56-4e32-b51f-6caf8ae6a003",
   "metadata": {},
   "outputs": [
    {
     "name": "stdout",
     "output_type": "stream",
     "text": [
      "Collecting openpyxl\n",
      "  Downloading openpyxl-3.1.2-py2.py3-none-any.whl (249 kB)\n",
      "     ---------------------------------------- 0.0/250.0 kB ? eta -:--:--\n",
      "     --- --------------------------------- 20.5/250.0 kB 330.3 kB/s eta 0:00:01\n",
      "     ------ ------------------------------ 41.0/250.0 kB 495.5 kB/s eta 0:00:01\n",
      "     -------------- --------------------- 102.4/250.0 kB 737.3 kB/s eta 0:00:01\n",
      "     -------------------------------------- 250.0/250.0 kB 1.5 MB/s eta 0:00:00\n",
      "Collecting et-xmlfile (from openpyxl)\n",
      "  Downloading et_xmlfile-1.1.0-py3-none-any.whl (4.7 kB)\n",
      "Installing collected packages: et-xmlfile, openpyxl\n",
      "Successfully installed et-xmlfile-1.1.0 openpyxl-3.1.2\n"
     ]
    }
   ],
   "source": [
    "!pip install openpyxl"
   ]
  },
  {
   "cell_type": "code",
   "execution_count": 52,
   "id": "b317239d-a94b-4b94-8f92-5e3f2c63affa",
   "metadata": {},
   "outputs": [
    {
     "name": "stdout",
     "output_type": "stream",
     "text": [
      "Collecting watermark\n",
      "  Downloading watermark-2.4.3-py2.py3-none-any.whl.metadata (1.4 kB)\n",
      "Requirement already satisfied: ipython>=6.0 in c:\\python312\\lib\\site-packages (from watermark) (8.20.0)\n",
      "Collecting importlib-metadata>=1.4 (from watermark)\n",
      "  Downloading importlib_metadata-7.0.1-py3-none-any.whl.metadata (4.9 kB)\n",
      "Requirement already satisfied: setuptools in c:\\python312\\lib\\site-packages (from watermark) (69.0.2)\n",
      "Collecting zipp>=0.5 (from importlib-metadata>=1.4->watermark)\n",
      "  Downloading zipp-3.17.0-py3-none-any.whl.metadata (3.7 kB)\n",
      "Requirement already satisfied: decorator in c:\\python312\\lib\\site-packages (from ipython>=6.0->watermark) (5.1.1)\n",
      "Requirement already satisfied: jedi>=0.16 in c:\\python312\\lib\\site-packages (from ipython>=6.0->watermark) (0.19.1)\n",
      "Requirement already satisfied: matplotlib-inline in c:\\python312\\lib\\site-packages (from ipython>=6.0->watermark) (0.1.6)\n",
      "Requirement already satisfied: prompt-toolkit<3.1.0,>=3.0.41 in c:\\python312\\lib\\site-packages (from ipython>=6.0->watermark) (3.0.43)\n",
      "Requirement already satisfied: pygments>=2.4.0 in c:\\python312\\lib\\site-packages (from ipython>=6.0->watermark) (2.17.2)\n",
      "Requirement already satisfied: stack-data in c:\\python312\\lib\\site-packages (from ipython>=6.0->watermark) (0.6.3)\n",
      "Requirement already satisfied: traitlets>=5 in c:\\python312\\lib\\site-packages (from ipython>=6.0->watermark) (5.14.1)\n",
      "Requirement already satisfied: colorama in c:\\python312\\lib\\site-packages (from ipython>=6.0->watermark) (0.4.6)\n",
      "Requirement already satisfied: parso<0.9.0,>=0.8.3 in c:\\python312\\lib\\site-packages (from jedi>=0.16->ipython>=6.0->watermark) (0.8.3)\n",
      "Requirement already satisfied: wcwidth in c:\\python312\\lib\\site-packages (from prompt-toolkit<3.1.0,>=3.0.41->ipython>=6.0->watermark) (0.2.13)\n",
      "Requirement already satisfied: executing>=1.2.0 in c:\\python312\\lib\\site-packages (from stack-data->ipython>=6.0->watermark) (2.0.1)\n",
      "Requirement already satisfied: asttokens>=2.1.0 in c:\\python312\\lib\\site-packages (from stack-data->ipython>=6.0->watermark) (2.4.1)\n",
      "Requirement already satisfied: pure-eval in c:\\python312\\lib\\site-packages (from stack-data->ipython>=6.0->watermark) (0.2.2)\n",
      "Requirement already satisfied: six>=1.12.0 in c:\\python312\\lib\\site-packages (from asttokens>=2.1.0->stack-data->ipython>=6.0->watermark) (1.16.0)\n",
      "Downloading watermark-2.4.3-py2.py3-none-any.whl (7.6 kB)\n",
      "Downloading importlib_metadata-7.0.1-py3-none-any.whl (23 kB)\n",
      "Downloading zipp-3.17.0-py3-none-any.whl (7.4 kB)\n",
      "Installing collected packages: zipp, importlib-metadata, watermark\n",
      "Successfully installed importlib-metadata-7.0.1 watermark-2.4.3 zipp-3.17.0\n"
     ]
    }
   ],
   "source": [
    "!pip install watermark"
   ]
  },
  {
   "cell_type": "code",
   "execution_count": 6,
   "id": "19eae0c5-6aa8-42bb-bd73-f4b8c8698c0a",
   "metadata": {},
   "outputs": [],
   "source": [
    "import pandas as pd"
   ]
  },
  {
   "cell_type": "code",
   "execution_count": 7,
   "id": "1d4b9c91-3736-401c-b8ab-46a31e2128ac",
   "metadata": {},
   "outputs": [],
   "source": [
    "import numpy as np"
   ]
  },
  {
   "cell_type": "code",
   "execution_count": 10,
   "id": "1fba79be-2521-43d2-972a-6965c51d86a3",
   "metadata": {},
   "outputs": [],
   "source": [
    "xlsx = pd.ExcelFile(\"Local Copy of Road Network.xlsx\")"
   ]
  },
  {
   "cell_type": "code",
   "execution_count": 11,
   "id": "ffb0ae6d-bf2d-433b-9b8e-9d78b2337e83",
   "metadata": {},
   "outputs": [],
   "source": [
    "edges = pd.read_excel(xlsx, \"Edges\")"
   ]
  },
  {
   "cell_type": "code",
   "execution_count": 12,
   "id": "d93a2da6-4757-41ad-ae91-5e78c164d8d4",
   "metadata": {},
   "outputs": [],
   "source": [
    "locations=pd.read_excel(xlsx,\"Locations\")"
   ]
  },
  {
   "cell_type": "code",
   "execution_count": 13,
   "id": "e0855371-3d40-4516-bca0-b2fc0913fd80",
   "metadata": {},
   "outputs": [
    {
     "data": {
      "text/html": [
       "<div>\n",
       "<style scoped>\n",
       "    .dataframe tbody tr th:only-of-type {\n",
       "        vertical-align: middle;\n",
       "    }\n",
       "\n",
       "    .dataframe tbody tr th {\n",
       "        vertical-align: top;\n",
       "    }\n",
       "\n",
       "    .dataframe thead th {\n",
       "        text-align: right;\n",
       "    }\n",
       "</style>\n",
       "<table border=\"1\" class=\"dataframe\">\n",
       "  <thead>\n",
       "    <tr style=\"text-align: right;\">\n",
       "      <th></th>\n",
       "      <th>edgeLabel</th>\n",
       "      <th>locationA</th>\n",
       "      <th>locationB</th>\n",
       "      <th>actualDistance</th>\n",
       "      <th>Contributer</th>\n",
       "      <th>Notes</th>\n",
       "    </tr>\n",
       "  </thead>\n",
       "  <tbody>\n",
       "    <tr>\n",
       "      <th>0</th>\n",
       "      <td>Nashville_tofrom_Jackson_on_I40</td>\n",
       "      <td>NashvilleTN</td>\n",
       "      <td>JacksonTN</td>\n",
       "      <td>129.0</td>\n",
       "      <td>IT</td>\n",
       "      <td>IT = the instructional team</td>\n",
       "    </tr>\n",
       "    <tr>\n",
       "      <th>1</th>\n",
       "      <td>Jackson_tofrom_Memphis_on_I40</td>\n",
       "      <td>JacksonTN</td>\n",
       "      <td>MemphisTN</td>\n",
       "      <td>88.0</td>\n",
       "      <td>IT</td>\n",
       "      <td>NaN</td>\n",
       "    </tr>\n",
       "    <tr>\n",
       "      <th>2</th>\n",
       "      <td>Nashville_tofrom_BowlingGreen_on_I65</td>\n",
       "      <td>NashvilleTN</td>\n",
       "      <td>BowlingGreenKY</td>\n",
       "      <td>66.0</td>\n",
       "      <td>IT</td>\n",
       "      <td>NaN</td>\n",
       "    </tr>\n",
       "    <tr>\n",
       "      <th>3</th>\n",
       "      <td>Louisville_tofrom_BowlingGreen_on_I65</td>\n",
       "      <td>LouisvilleKY</td>\n",
       "      <td>BowlingGreenKY</td>\n",
       "      <td>117.0</td>\n",
       "      <td>IT</td>\n",
       "      <td>NaN</td>\n",
       "    </tr>\n",
       "    <tr>\n",
       "      <th>4</th>\n",
       "      <td>Indianapolis_tofrom_Louisville</td>\n",
       "      <td>IndianapolisIN</td>\n",
       "      <td>LouisvilleKY</td>\n",
       "      <td>114.0</td>\n",
       "      <td>IT</td>\n",
       "      <td>NaN</td>\n",
       "    </tr>\n",
       "    <tr>\n",
       "      <th>...</th>\n",
       "      <td>...</td>\n",
       "      <td>...</td>\n",
       "      <td>...</td>\n",
       "      <td>...</td>\n",
       "      <td>...</td>\n",
       "      <td>...</td>\n",
       "    </tr>\n",
       "    <tr>\n",
       "      <th>419</th>\n",
       "      <td>FayettevilleTN_tofrom_AthensAL</td>\n",
       "      <td>FayettevilleTN</td>\n",
       "      <td>AthensAL</td>\n",
       "      <td>49.0</td>\n",
       "      <td>IT</td>\n",
       "      <td>NaN</td>\n",
       "    </tr>\n",
       "    <tr>\n",
       "      <th>420</th>\n",
       "      <td>AthensAL_tofrom_HuntsvilleAL</td>\n",
       "      <td>AthensAL</td>\n",
       "      <td>HuntsvilleAL</td>\n",
       "      <td>34.0</td>\n",
       "      <td>IT</td>\n",
       "      <td>NaN</td>\n",
       "    </tr>\n",
       "    <tr>\n",
       "      <th>421</th>\n",
       "      <td>Dallas_tofrom_Austin</td>\n",
       "      <td>DallasTX</td>\n",
       "      <td>AustinTX</td>\n",
       "      <td>197.0</td>\n",
       "      <td>IT</td>\n",
       "      <td>NaN</td>\n",
       "    </tr>\n",
       "    <tr>\n",
       "      <th>422</th>\n",
       "      <td>Austin_tofrom_ArtesiaWells</td>\n",
       "      <td>AustinTX</td>\n",
       "      <td>ArtesiaWellsTX</td>\n",
       "      <td>179.0</td>\n",
       "      <td>IT</td>\n",
       "      <td>NaN</td>\n",
       "    </tr>\n",
       "    <tr>\n",
       "      <th>423</th>\n",
       "      <td>ArtesiaWells_tofrom_Monterrey</td>\n",
       "      <td>ArtesiaWellsTX</td>\n",
       "      <td>MonterreyNLMexico</td>\n",
       "      <td>194.0</td>\n",
       "      <td>IT</td>\n",
       "      <td>NaN</td>\n",
       "    </tr>\n",
       "  </tbody>\n",
       "</table>\n",
       "<p>424 rows × 6 columns</p>\n",
       "</div>"
      ],
      "text/plain": [
       "                                 edgeLabel       locationA          locationB  \\\n",
       "0          Nashville_tofrom_Jackson_on_I40     NashvilleTN          JacksonTN   \n",
       "1            Jackson_tofrom_Memphis_on_I40       JacksonTN          MemphisTN   \n",
       "2     Nashville_tofrom_BowlingGreen_on_I65     NashvilleTN     BowlingGreenKY   \n",
       "3    Louisville_tofrom_BowlingGreen_on_I65    LouisvilleKY     BowlingGreenKY   \n",
       "4           Indianapolis_tofrom_Louisville  IndianapolisIN       LouisvilleKY   \n",
       "..                                     ...             ...                ...   \n",
       "419         FayettevilleTN_tofrom_AthensAL  FayettevilleTN           AthensAL   \n",
       "420           AthensAL_tofrom_HuntsvilleAL        AthensAL       HuntsvilleAL   \n",
       "421                   Dallas_tofrom_Austin        DallasTX           AustinTX   \n",
       "422             Austin_tofrom_ArtesiaWells        AustinTX     ArtesiaWellsTX   \n",
       "423          ArtesiaWells_tofrom_Monterrey  ArtesiaWellsTX  MonterreyNLMexico   \n",
       "\n",
       "     actualDistance Contributer                        Notes  \n",
       "0             129.0          IT  IT = the instructional team  \n",
       "1              88.0          IT                          NaN  \n",
       "2              66.0          IT                          NaN  \n",
       "3             117.0          IT                          NaN  \n",
       "4             114.0          IT                          NaN  \n",
       "..              ...         ...                          ...  \n",
       "419            49.0          IT                          NaN  \n",
       "420            34.0          IT                          NaN  \n",
       "421           197.0          IT                          NaN  \n",
       "422           179.0          IT                          NaN  \n",
       "423           194.0          IT                          NaN  \n",
       "\n",
       "[424 rows x 6 columns]"
      ]
     },
     "execution_count": 13,
     "metadata": {},
     "output_type": "execute_result"
    }
   ],
   "source": [
    "edges\n"
   ]
  },
  {
   "cell_type": "code",
   "execution_count": 16,
   "id": "4280b64a-0b54-4be5-95c5-331052e691f3",
   "metadata": {},
   "outputs": [
    {
     "name": "stdout",
     "output_type": "stream",
     "text": [
      "<class 'pandas.core.frame.DataFrame'>\n",
      "RangeIndex: 424 entries, 0 to 423\n",
      "Data columns (total 6 columns):\n",
      " #   Column          Non-Null Count  Dtype  \n",
      "---  ------          --------------  -----  \n",
      " 0   edgeLabel       424 non-null    object \n",
      " 1   locationA       424 non-null    object \n",
      " 2   locationB       424 non-null    object \n",
      " 3   actualDistance  424 non-null    float64\n",
      " 4   Contributer     424 non-null    object \n",
      " 5   Notes           3 non-null      object \n",
      "dtypes: float64(1), object(5)\n",
      "memory usage: 20.0+ KB\n"
     ]
    }
   ],
   "source": [
    "edges.info()"
   ]
  },
  {
   "cell_type": "code",
   "execution_count": 40,
   "id": "759de0ad-c19a-497c-847e-e2402c565268",
   "metadata": {},
   "outputs": [],
   "source": [
    "size_loc=len(locations)"
   ]
  },
  {
   "cell_type": "code",
   "execution_count": 41,
   "id": "cd5464dd-4a71-4689-bb88-6e2c50c1e32f",
   "metadata": {},
   "outputs": [
    {
     "data": {
      "text/plain": [
       "248"
      ]
     },
     "execution_count": 41,
     "metadata": {},
     "output_type": "execute_result"
    }
   ],
   "source": [
    "size_loc"
   ]
  },
  {
   "cell_type": "code",
   "execution_count": 50,
   "id": "389766c4-f65c-47ea-8b2e-7b190579dab2",
   "metadata": {},
   "outputs": [],
   "source": [
    "np.random.seed(seed=3)"
   ]
  },
  {
   "cell_type": "code",
   "execution_count": 43,
   "id": "8081b2a3-2151-462c-83b9-f36b737f9cc4",
   "metadata": {},
   "outputs": [],
   "source": [
    " location_preference_assignments=np.random.uniform(low=0.0,high=1.0,size=size_loc)"
   ]
  },
  {
   "cell_type": "code",
   "execution_count": null,
   "id": "a60f54c1-8471-4e9c-b751-8c0ede7ad066",
   "metadata": {},
   "outputs": [],
   "source": [
    "#mke a func#"
   ]
  },
  {
   "cell_type": "code",
   "execution_count": 42,
   "id": "2d2779cc-9583-4d20-9d85-b5401970eedd",
   "metadata": {},
   "outputs": [],
   "source": [
    "size_edge=len(edges)"
   ]
  },
  {
   "cell_type": "code",
   "execution_count": 44,
   "id": "67dc5c3f-e192-4d7e-8471-b5f977b31ee8",
   "metadata": {},
   "outputs": [],
   "source": [
    " edge_preference_assignments =np.random.uniform(low=0.0,high=0.1,size=size_edge)"
   ]
  },
  {
   "cell_type": "code",
   "execution_count": 38,
   "id": "1ccfd9f2-d88d-41de-9c76-66e9d5af2cc6",
   "metadata": {},
   "outputs": [
    {
     "data": {
      "text/plain": [
       "424"
      ]
     },
     "execution_count": 38,
     "metadata": {},
     "output_type": "execute_result"
    }
   ],
   "source": [
    "len(edges)"
   ]
  },
  {
   "cell_type": "code",
   "execution_count": 48,
   "id": "7008eba5-3a46-458a-893a-b490a2a415c1",
   "metadata": {},
   "outputs": [],
   "source": [
    "edges[\"Preference\"]= edge_preference_assignments"
   ]
  },
  {
   "cell_type": "code",
   "execution_count": 46,
   "id": "cb50e20a-fb4f-4a29-a366-b111df587d42",
   "metadata": {},
   "outputs": [],
   "source": [
    "locations['Preference']=location_preference_assignments"
   ]
  },
  {
   "cell_type": "code",
   "execution_count": 47,
   "id": "017b1dd0-f947-461e-8284-44626f0cf406",
   "metadata": {},
   "outputs": [
    {
     "data": {
      "text/html": [
       "<div>\n",
       "<style scoped>\n",
       "    .dataframe tbody tr th:only-of-type {\n",
       "        vertical-align: middle;\n",
       "    }\n",
       "\n",
       "    .dataframe tbody tr th {\n",
       "        vertical-align: top;\n",
       "    }\n",
       "\n",
       "    .dataframe thead th {\n",
       "        text-align: right;\n",
       "    }\n",
       "</style>\n",
       "<table border=\"1\" class=\"dataframe\">\n",
       "  <thead>\n",
       "    <tr style=\"text-align: right;\">\n",
       "      <th></th>\n",
       "      <th>Location Label</th>\n",
       "      <th>Latitude</th>\n",
       "      <th>Longitude</th>\n",
       "      <th>Contributer</th>\n",
       "      <th>Notes</th>\n",
       "      <th>preference</th>\n",
       "    </tr>\n",
       "  </thead>\n",
       "  <tbody>\n",
       "    <tr>\n",
       "      <th>0</th>\n",
       "      <td>NashvilleTN</td>\n",
       "      <td>36.174465</td>\n",
       "      <td>-86.767960</td>\n",
       "      <td>IT</td>\n",
       "      <td>IT = the instructional team</td>\n",
       "      <td>0.718007</td>\n",
       "    </tr>\n",
       "    <tr>\n",
       "      <th>1</th>\n",
       "      <td>MemphisTN</td>\n",
       "      <td>35.117500</td>\n",
       "      <td>-89.971107</td>\n",
       "      <td>IT</td>\n",
       "      <td>NaN</td>\n",
       "      <td>0.354408</td>\n",
       "    </tr>\n",
       "    <tr>\n",
       "      <th>2</th>\n",
       "      <td>JacksonTN</td>\n",
       "      <td>35.614517</td>\n",
       "      <td>-88.813947</td>\n",
       "      <td>IT</td>\n",
       "      <td>NaN</td>\n",
       "      <td>0.460413</td>\n",
       "    </tr>\n",
       "    <tr>\n",
       "      <th>3</th>\n",
       "      <td>SanJoseCA</td>\n",
       "      <td>37.338700</td>\n",
       "      <td>-121.885250</td>\n",
       "      <td>IT</td>\n",
       "      <td>NaN</td>\n",
       "      <td>0.619765</td>\n",
       "    </tr>\n",
       "    <tr>\n",
       "      <th>4</th>\n",
       "      <td>LouisvilleKY</td>\n",
       "      <td>38.252660</td>\n",
       "      <td>-85.758450</td>\n",
       "      <td>IT</td>\n",
       "      <td>NaN</td>\n",
       "      <td>0.068034</td>\n",
       "    </tr>\n",
       "  </tbody>\n",
       "</table>\n",
       "</div>"
      ],
      "text/plain": [
       "  Location Label   Latitude   Longitude Contributer  \\\n",
       "0    NashvilleTN  36.174465  -86.767960          IT   \n",
       "1      MemphisTN  35.117500  -89.971107          IT   \n",
       "2      JacksonTN  35.614517  -88.813947          IT   \n",
       "3      SanJoseCA  37.338700 -121.885250          IT   \n",
       "4   LouisvilleKY  38.252660  -85.758450          IT   \n",
       "\n",
       "                         Notes  preference  \n",
       "0  IT = the instructional team    0.718007  \n",
       "1                          NaN    0.354408  \n",
       "2                          NaN    0.460413  \n",
       "3                          NaN    0.619765  \n",
       "4                          NaN    0.068034  "
      ]
     },
     "execution_count": 47,
     "metadata": {},
     "output_type": "execute_result"
    }
   ],
   "source": [
    "locations.head()"
   ]
  },
  {
   "cell_type": "code",
   "execution_count": 49,
   "id": "e968a958-24c5-4376-a95c-c3bccd98ea15",
   "metadata": {},
   "outputs": [
    {
     "data": {
      "text/html": [
       "<div>\n",
       "<style scoped>\n",
       "    .dataframe tbody tr th:only-of-type {\n",
       "        vertical-align: middle;\n",
       "    }\n",
       "\n",
       "    .dataframe tbody tr th {\n",
       "        vertical-align: top;\n",
       "    }\n",
       "\n",
       "    .dataframe thead th {\n",
       "        text-align: right;\n",
       "    }\n",
       "</style>\n",
       "<table border=\"1\" class=\"dataframe\">\n",
       "  <thead>\n",
       "    <tr style=\"text-align: right;\">\n",
       "      <th></th>\n",
       "      <th>edgeLabel</th>\n",
       "      <th>locationA</th>\n",
       "      <th>locationB</th>\n",
       "      <th>actualDistance</th>\n",
       "      <th>Contributer</th>\n",
       "      <th>Notes</th>\n",
       "      <th>Preference</th>\n",
       "    </tr>\n",
       "  </thead>\n",
       "  <tbody>\n",
       "    <tr>\n",
       "      <th>0</th>\n",
       "      <td>Nashville_tofrom_Jackson_on_I40</td>\n",
       "      <td>NashvilleTN</td>\n",
       "      <td>JacksonTN</td>\n",
       "      <td>129.0</td>\n",
       "      <td>IT</td>\n",
       "      <td>IT = the instructional team</td>\n",
       "      <td>0.055231</td>\n",
       "    </tr>\n",
       "    <tr>\n",
       "      <th>1</th>\n",
       "      <td>Jackson_tofrom_Memphis_on_I40</td>\n",
       "      <td>JacksonTN</td>\n",
       "      <td>MemphisTN</td>\n",
       "      <td>88.0</td>\n",
       "      <td>IT</td>\n",
       "      <td>NaN</td>\n",
       "      <td>0.082222</td>\n",
       "    </tr>\n",
       "    <tr>\n",
       "      <th>2</th>\n",
       "      <td>Nashville_tofrom_BowlingGreen_on_I65</td>\n",
       "      <td>NashvilleTN</td>\n",
       "      <td>BowlingGreenKY</td>\n",
       "      <td>66.0</td>\n",
       "      <td>IT</td>\n",
       "      <td>NaN</td>\n",
       "      <td>0.091915</td>\n",
       "    </tr>\n",
       "    <tr>\n",
       "      <th>3</th>\n",
       "      <td>Louisville_tofrom_BowlingGreen_on_I65</td>\n",
       "      <td>LouisvilleKY</td>\n",
       "      <td>BowlingGreenKY</td>\n",
       "      <td>117.0</td>\n",
       "      <td>IT</td>\n",
       "      <td>NaN</td>\n",
       "      <td>0.082179</td>\n",
       "    </tr>\n",
       "    <tr>\n",
       "      <th>4</th>\n",
       "      <td>Indianapolis_tofrom_Louisville</td>\n",
       "      <td>IndianapolisIN</td>\n",
       "      <td>LouisvilleKY</td>\n",
       "      <td>114.0</td>\n",
       "      <td>IT</td>\n",
       "      <td>NaN</td>\n",
       "      <td>0.028665</td>\n",
       "    </tr>\n",
       "  </tbody>\n",
       "</table>\n",
       "</div>"
      ],
      "text/plain": [
       "                               edgeLabel       locationA       locationB  \\\n",
       "0        Nashville_tofrom_Jackson_on_I40     NashvilleTN       JacksonTN   \n",
       "1          Jackson_tofrom_Memphis_on_I40       JacksonTN       MemphisTN   \n",
       "2   Nashville_tofrom_BowlingGreen_on_I65     NashvilleTN  BowlingGreenKY   \n",
       "3  Louisville_tofrom_BowlingGreen_on_I65    LouisvilleKY  BowlingGreenKY   \n",
       "4         Indianapolis_tofrom_Louisville  IndianapolisIN    LouisvilleKY   \n",
       "\n",
       "   actualDistance Contributer                        Notes  Preference  \n",
       "0           129.0          IT  IT = the instructional team    0.055231  \n",
       "1            88.0          IT                          NaN    0.082222  \n",
       "2            66.0          IT                          NaN    0.091915  \n",
       "3           117.0          IT                          NaN    0.082179  \n",
       "4           114.0          IT                          NaN    0.028665  "
      ]
     },
     "execution_count": 49,
     "metadata": {},
     "output_type": "execute_result"
    }
   ],
   "source": [
    "edges.head()"
   ]
  },
  {
   "cell_type": "code",
   "execution_count": 67,
   "id": "d949eaa4-4375-4a3f-99f9-bbc09226d594",
   "metadata": {},
   "outputs": [
    {
     "name": "stdout",
     "output_type": "stream",
     "text": [
      "numpy : 1.26.2\n",
      "pandas: 2.2.0\n",
      "\n"
     ]
    }
   ],
   "source": [
    "%watermark --iversions"
   ]
  },
  {
   "cell_type": "code",
   "execution_count": 66,
   "id": "32b2531e-428b-4311-a00c-5f9bdbd0b8d1",
   "metadata": {},
   "outputs": [
    {
     "name": "stdout",
     "output_type": "stream",
     "text": [
      "The watermark extension is already loaded. To reload it, use:\n",
      "  %reload_ext watermark\n",
      "Python implementation: CPython\n",
      "Python version       : 3.12.0\n",
      "IPython version      : 8.20.0\n",
      "\n",
      "wget     : not installed\n",
      "pandas   : 2.2.0\n",
      "numpy    : 1.26.2\n",
      "openpyxl : 3.1.2\n",
      "watermark: 2.4.3\n",
      "\n",
      "Compiler    : MSC v.1935 64 bit (AMD64)\n",
      "OS          : Windows\n",
      "Release     : 11\n",
      "Machine     : AMD64\n",
      "Processor   : Intel64 Family 6 Model 186 Stepping 3, GenuineIntel\n",
      "CPU cores   : 12\n",
      "Architecture: 64bit\n",
      "\n",
      "\n",
      "Last updated: Fri Jan 26 2024 14:46:56Central Standard Time\n",
      "\n"
     ]
    }
   ],
   "source": [
    "%load_ext watermark\n",
    "%watermark -v -m -p wget,pandas,numpy,openpyxl,watermark \n",
    "#needpackages and version\n",
    "print(\"\")\n",
    "%watermark -u -n -t -z\n"
   ]
  }
 ],
 "metadata": {
  "kernelspec": {
   "display_name": "Python 3 (ipykernel)",
   "language": "python",
   "name": "python3"
  },
  "language_info": {
   "codemirror_mode": {
    "name": "ipython",
    "version": 3
   },
   "file_extension": ".py",
   "mimetype": "text/x-python",
   "name": "python",
   "nbconvert_exporter": "python",
   "pygments_lexer": "ipython3",
   "version": "3.12.0"
  }
 },
 "nbformat": 4,
 "nbformat_minor": 5
}
