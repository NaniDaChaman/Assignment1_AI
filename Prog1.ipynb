{
 "cells": [
  {
   "cell_type": "code",
   "execution_count": 1,
   "id": "3c55efcb-8fc3-4a6b-a22c-10085d02baf0",
   "metadata": {},
   "outputs": [
    {
     "name": "stdout",
     "output_type": "stream",
     "text": [
      "Hi\n"
     ]
    }
   ],
   "source": [
    "print(\"Hi\")"
   ]
  },
  {
   "cell_type": "code",
   "execution_count": 1,
   "id": "2de0b1c3-d69d-42c9-969b-ae4cc347b9ef",
   "metadata": {},
   "outputs": [
    {
     "name": "stdout",
     "output_type": "stream",
     "text": [
      "Requirement already satisfied: pandas in c:\\python312\\lib\\site-packages (2.2.0)\n",
      "Requirement already satisfied: numpy<2,>=1.26.0 in c:\\python312\\lib\\site-packages (from pandas) (1.26.2)\n",
      "Requirement already satisfied: python-dateutil>=2.8.2 in c:\\python312\\lib\\site-packages (from pandas) (2.8.2)\n",
      "Requirement already satisfied: pytz>=2020.1 in c:\\python312\\lib\\site-packages (from pandas) (2023.3.post1)\n",
      "Requirement already satisfied: tzdata>=2022.7 in c:\\python312\\lib\\site-packages (from pandas) (2023.4)\n",
      "Requirement already satisfied: six>=1.5 in c:\\python312\\lib\\site-packages (from python-dateutil>=2.8.2->pandas) (1.16.0)\n"
     ]
    }
   ],
   "source": [
    "!pip install pandas"
   ]
  },
  {
   "cell_type": "code",
   "execution_count": 2,
   "id": "d2b50ea2-8632-4954-89aa-7e195730d517",
   "metadata": {},
   "outputs": [
    {
     "name": "stdout",
     "output_type": "stream",
     "text": [
      "Requirement already satisfied: numpy in c:\\python312\\lib\\site-packages (1.26.2)\n"
     ]
    }
   ],
   "source": [
    "!pip install numpy"
   ]
  },
  {
   "cell_type": "code",
   "execution_count": 3,
   "id": "b4461dc5-fe56-4e32-b51f-6caf8ae6a003",
   "metadata": {},
   "outputs": [
    {
     "name": "stdout",
     "output_type": "stream",
     "text": [
      "Requirement already satisfied: openpyxl in c:\\python312\\lib\\site-packages (3.1.2)\n",
      "Requirement already satisfied: et-xmlfile in c:\\python312\\lib\\site-packages (from openpyxl) (1.1.0)\n"
     ]
    }
   ],
   "source": [
    "!pip install openpyxl"
   ]
  },
  {
   "cell_type": "code",
   "execution_count": 4,
   "id": "b317239d-a94b-4b94-8f92-5e3f2c63affa",
   "metadata": {},
   "outputs": [
    {
     "name": "stdout",
     "output_type": "stream",
     "text": [
      "Requirement already satisfied: watermark in c:\\python312\\lib\\site-packages (2.4.3)\n",
      "Requirement already satisfied: ipython>=6.0 in c:\\python312\\lib\\site-packages (from watermark) (8.20.0)\n",
      "Requirement already satisfied: importlib-metadata>=1.4 in c:\\python312\\lib\\site-packages (from watermark) (7.0.1)\n",
      "Requirement already satisfied: setuptools in c:\\python312\\lib\\site-packages (from watermark) (69.0.2)\n",
      "Requirement already satisfied: zipp>=0.5 in c:\\python312\\lib\\site-packages (from importlib-metadata>=1.4->watermark) (3.17.0)\n",
      "Requirement already satisfied: decorator in c:\\python312\\lib\\site-packages (from ipython>=6.0->watermark) (5.1.1)\n",
      "Requirement already satisfied: jedi>=0.16 in c:\\python312\\lib\\site-packages (from ipython>=6.0->watermark) (0.19.1)\n",
      "Requirement already satisfied: matplotlib-inline in c:\\python312\\lib\\site-packages (from ipython>=6.0->watermark) (0.1.6)\n",
      "Requirement already satisfied: prompt-toolkit<3.1.0,>=3.0.41 in c:\\python312\\lib\\site-packages (from ipython>=6.0->watermark) (3.0.43)\n",
      "Requirement already satisfied: pygments>=2.4.0 in c:\\python312\\lib\\site-packages (from ipython>=6.0->watermark) (2.17.2)\n",
      "Requirement already satisfied: stack-data in c:\\python312\\lib\\site-packages (from ipython>=6.0->watermark) (0.6.3)\n",
      "Requirement already satisfied: traitlets>=5 in c:\\python312\\lib\\site-packages (from ipython>=6.0->watermark) (5.14.1)\n",
      "Requirement already satisfied: colorama in c:\\python312\\lib\\site-packages (from ipython>=6.0->watermark) (0.4.6)\n",
      "Requirement already satisfied: parso<0.9.0,>=0.8.3 in c:\\python312\\lib\\site-packages (from jedi>=0.16->ipython>=6.0->watermark) (0.8.3)\n",
      "Requirement already satisfied: wcwidth in c:\\python312\\lib\\site-packages (from prompt-toolkit<3.1.0,>=3.0.41->ipython>=6.0->watermark) (0.2.13)\n",
      "Requirement already satisfied: executing>=1.2.0 in c:\\python312\\lib\\site-packages (from stack-data->ipython>=6.0->watermark) (2.0.1)\n",
      "Requirement already satisfied: asttokens>=2.1.0 in c:\\python312\\lib\\site-packages (from stack-data->ipython>=6.0->watermark) (2.4.1)\n",
      "Requirement already satisfied: pure-eval in c:\\python312\\lib\\site-packages (from stack-data->ipython>=6.0->watermark) (0.2.2)\n",
      "Requirement already satisfied: six>=1.12.0 in c:\\python312\\lib\\site-packages (from asttokens>=2.1.0->stack-data->ipython>=6.0->watermark) (1.16.0)\n"
     ]
    }
   ],
   "source": [
    "!pip install watermark"
   ]
  },
  {
   "cell_type": "code",
   "execution_count": 5,
   "id": "19eae0c5-6aa8-42bb-bd73-f4b8c8698c0a",
   "metadata": {},
   "outputs": [
    {
     "name": "stderr",
     "output_type": "stream",
     "text": [
      "C:\\Users\\amarn\\AppData\\Local\\Temp\\ipykernel_40152\\4080736814.py:1: DeprecationWarning: \n",
      "Pyarrow will become a required dependency of pandas in the next major release of pandas (pandas 3.0),\n",
      "(to allow more performant data types, such as the Arrow string type, and better interoperability with other libraries)\n",
      "but was not found to be installed on your system.\n",
      "If this would cause problems for you,\n",
      "please provide us feedback at https://github.com/pandas-dev/pandas/issues/54466\n",
      "        \n",
      "  import pandas as pd\n"
     ]
    }
   ],
   "source": [
    "import pandas as pd"
   ]
  },
  {
   "cell_type": "code",
   "execution_count": 6,
   "id": "1d4b9c91-3736-401c-b8ab-46a31e2128ac",
   "metadata": {},
   "outputs": [],
   "source": [
    "import numpy as np"
   ]
  },
  {
   "cell_type": "code",
   "execution_count": 7,
   "id": "1fba79be-2521-43d2-972a-6965c51d86a3",
   "metadata": {},
   "outputs": [],
   "source": [
    "xlsx = pd.ExcelFile(\"Local Copy of Road Network.xlsx\")"
   ]
  },
  {
   "cell_type": "code",
   "execution_count": 8,
   "id": "ffb0ae6d-bf2d-433b-9b8e-9d78b2337e83",
   "metadata": {},
   "outputs": [],
   "source": [
    "edges = pd.read_excel(xlsx, \"Edges\")"
   ]
  },
  {
   "cell_type": "code",
   "execution_count": 9,
   "id": "d93a2da6-4757-41ad-ae91-5e78c164d8d4",
   "metadata": {},
   "outputs": [],
   "source": [
    "locations=pd.read_excel(xlsx,\"Locations\")"
   ]
  },
  {
   "cell_type": "code",
   "execution_count": 11,
   "id": "11bec754-2b82-4fcc-88b0-64f8ad7edb87",
   "metadata": {},
   "outputs": [],
   "source": [
    "locations.to_csv(\"LocFile.csv\")"
   ]
  },
  {
   "cell_type": "code",
   "execution_count": 12,
   "id": "55361285-56aa-43b3-af56-ea7b7b504d10",
   "metadata": {},
   "outputs": [],
   "source": [
    "edges.to_csv(\"EdgeFile.csv\")"
   ]
  },
  {
   "cell_type": "code",
   "execution_count": 11,
   "id": "e0855371-3d40-4516-bca0-b2fc0913fd80",
   "metadata": {},
   "outputs": [
    {
     "data": {
      "text/html": [
       "<div>\n",
       "<style scoped>\n",
       "    .dataframe tbody tr th:only-of-type {\n",
       "        vertical-align: middle;\n",
       "    }\n",
       "\n",
       "    .dataframe tbody tr th {\n",
       "        vertical-align: top;\n",
       "    }\n",
       "\n",
       "    .dataframe thead th {\n",
       "        text-align: right;\n",
       "    }\n",
       "</style>\n",
       "<table border=\"1\" class=\"dataframe\">\n",
       "  <thead>\n",
       "    <tr style=\"text-align: right;\">\n",
       "      <th></th>\n",
       "      <th>edgeLabel</th>\n",
       "      <th>locationA</th>\n",
       "      <th>locationB</th>\n",
       "      <th>actualDistance</th>\n",
       "      <th>Contributer</th>\n",
       "      <th>Notes</th>\n",
       "    </tr>\n",
       "  </thead>\n",
       "  <tbody>\n",
       "    <tr>\n",
       "      <th>0</th>\n",
       "      <td>Nashville_tofrom_Jackson_on_I40</td>\n",
       "      <td>NashvilleTN</td>\n",
       "      <td>JacksonTN</td>\n",
       "      <td>129.0</td>\n",
       "      <td>IT</td>\n",
       "      <td>IT = the instructional team</td>\n",
       "    </tr>\n",
       "    <tr>\n",
       "      <th>1</th>\n",
       "      <td>Jackson_tofrom_Memphis_on_I40</td>\n",
       "      <td>JacksonTN</td>\n",
       "      <td>MemphisTN</td>\n",
       "      <td>88.0</td>\n",
       "      <td>IT</td>\n",
       "      <td>NaN</td>\n",
       "    </tr>\n",
       "    <tr>\n",
       "      <th>2</th>\n",
       "      <td>Nashville_tofrom_BowlingGreen_on_I65</td>\n",
       "      <td>NashvilleTN</td>\n",
       "      <td>BowlingGreenKY</td>\n",
       "      <td>66.0</td>\n",
       "      <td>IT</td>\n",
       "      <td>NaN</td>\n",
       "    </tr>\n",
       "    <tr>\n",
       "      <th>3</th>\n",
       "      <td>Louisville_tofrom_BowlingGreen_on_I65</td>\n",
       "      <td>LouisvilleKY</td>\n",
       "      <td>BowlingGreenKY</td>\n",
       "      <td>117.0</td>\n",
       "      <td>IT</td>\n",
       "      <td>NaN</td>\n",
       "    </tr>\n",
       "    <tr>\n",
       "      <th>4</th>\n",
       "      <td>Indianapolis_tofrom_Louisville</td>\n",
       "      <td>IndianapolisIN</td>\n",
       "      <td>LouisvilleKY</td>\n",
       "      <td>114.0</td>\n",
       "      <td>IT</td>\n",
       "      <td>NaN</td>\n",
       "    </tr>\n",
       "    <tr>\n",
       "      <th>...</th>\n",
       "      <td>...</td>\n",
       "      <td>...</td>\n",
       "      <td>...</td>\n",
       "      <td>...</td>\n",
       "      <td>...</td>\n",
       "      <td>...</td>\n",
       "    </tr>\n",
       "    <tr>\n",
       "      <th>419</th>\n",
       "      <td>FayettevilleTN_tofrom_AthensAL</td>\n",
       "      <td>FayettevilleTN</td>\n",
       "      <td>AthensAL</td>\n",
       "      <td>49.0</td>\n",
       "      <td>IT</td>\n",
       "      <td>NaN</td>\n",
       "    </tr>\n",
       "    <tr>\n",
       "      <th>420</th>\n",
       "      <td>AthensAL_tofrom_HuntsvilleAL</td>\n",
       "      <td>AthensAL</td>\n",
       "      <td>HuntsvilleAL</td>\n",
       "      <td>34.0</td>\n",
       "      <td>IT</td>\n",
       "      <td>NaN</td>\n",
       "    </tr>\n",
       "    <tr>\n",
       "      <th>421</th>\n",
       "      <td>Dallas_tofrom_Austin</td>\n",
       "      <td>DallasTX</td>\n",
       "      <td>AustinTX</td>\n",
       "      <td>197.0</td>\n",
       "      <td>IT</td>\n",
       "      <td>NaN</td>\n",
       "    </tr>\n",
       "    <tr>\n",
       "      <th>422</th>\n",
       "      <td>Austin_tofrom_ArtesiaWells</td>\n",
       "      <td>AustinTX</td>\n",
       "      <td>ArtesiaWellsTX</td>\n",
       "      <td>179.0</td>\n",
       "      <td>IT</td>\n",
       "      <td>NaN</td>\n",
       "    </tr>\n",
       "    <tr>\n",
       "      <th>423</th>\n",
       "      <td>ArtesiaWells_tofrom_Monterrey</td>\n",
       "      <td>ArtesiaWellsTX</td>\n",
       "      <td>MonterreyNLMexico</td>\n",
       "      <td>194.0</td>\n",
       "      <td>IT</td>\n",
       "      <td>NaN</td>\n",
       "    </tr>\n",
       "  </tbody>\n",
       "</table>\n",
       "<p>424 rows × 6 columns</p>\n",
       "</div>"
      ],
      "text/plain": [
       "                                 edgeLabel       locationA          locationB  \\\n",
       "0          Nashville_tofrom_Jackson_on_I40     NashvilleTN          JacksonTN   \n",
       "1            Jackson_tofrom_Memphis_on_I40       JacksonTN          MemphisTN   \n",
       "2     Nashville_tofrom_BowlingGreen_on_I65     NashvilleTN     BowlingGreenKY   \n",
       "3    Louisville_tofrom_BowlingGreen_on_I65    LouisvilleKY     BowlingGreenKY   \n",
       "4           Indianapolis_tofrom_Louisville  IndianapolisIN       LouisvilleKY   \n",
       "..                                     ...             ...                ...   \n",
       "419         FayettevilleTN_tofrom_AthensAL  FayettevilleTN           AthensAL   \n",
       "420           AthensAL_tofrom_HuntsvilleAL        AthensAL       HuntsvilleAL   \n",
       "421                   Dallas_tofrom_Austin        DallasTX           AustinTX   \n",
       "422             Austin_tofrom_ArtesiaWells        AustinTX     ArtesiaWellsTX   \n",
       "423          ArtesiaWells_tofrom_Monterrey  ArtesiaWellsTX  MonterreyNLMexico   \n",
       "\n",
       "     actualDistance Contributer                        Notes  \n",
       "0             129.0          IT  IT = the instructional team  \n",
       "1              88.0          IT                          NaN  \n",
       "2              66.0          IT                          NaN  \n",
       "3             117.0          IT                          NaN  \n",
       "4             114.0          IT                          NaN  \n",
       "..              ...         ...                          ...  \n",
       "419            49.0          IT                          NaN  \n",
       "420            34.0          IT                          NaN  \n",
       "421           197.0          IT                          NaN  \n",
       "422           179.0          IT                          NaN  \n",
       "423           194.0          IT                          NaN  \n",
       "\n",
       "[424 rows x 6 columns]"
      ]
     },
     "execution_count": 11,
     "metadata": {},
     "output_type": "execute_result"
    }
   ],
   "source": [
    "edges\n"
   ]
  },
  {
   "cell_type": "code",
   "execution_count": 12,
   "id": "4280b64a-0b54-4be5-95c5-331052e691f3",
   "metadata": {},
   "outputs": [
    {
     "name": "stdout",
     "output_type": "stream",
     "text": [
      "<class 'pandas.core.frame.DataFrame'>\n",
      "RangeIndex: 424 entries, 0 to 423\n",
      "Data columns (total 6 columns):\n",
      " #   Column          Non-Null Count  Dtype  \n",
      "---  ------          --------------  -----  \n",
      " 0   edgeLabel       424 non-null    object \n",
      " 1   locationA       424 non-null    object \n",
      " 2   locationB       424 non-null    object \n",
      " 3   actualDistance  424 non-null    float64\n",
      " 4   Contributer     424 non-null    object \n",
      " 5   Notes           3 non-null      object \n",
      "dtypes: float64(1), object(5)\n",
      "memory usage: 20.0+ KB\n"
     ]
    }
   ],
   "source": [
    "edges.info()"
   ]
  },
  {
   "cell_type": "code",
   "execution_count": 13,
   "id": "759de0ad-c19a-497c-847e-e2402c565268",
   "metadata": {},
   "outputs": [],
   "source": [
    "size_loc=len(locations)"
   ]
  },
  {
   "cell_type": "code",
   "execution_count": 14,
   "id": "cd5464dd-4a71-4689-bb88-6e2c50c1e32f",
   "metadata": {},
   "outputs": [
    {
     "data": {
      "text/plain": [
       "248"
      ]
     },
     "execution_count": 14,
     "metadata": {},
     "output_type": "execute_result"
    }
   ],
   "source": [
    "size_loc"
   ]
  },
  {
   "cell_type": "code",
   "execution_count": 15,
   "id": "389766c4-f65c-47ea-8b2e-7b190579dab2",
   "metadata": {},
   "outputs": [],
   "source": [
    "np.random.seed(seed=3)"
   ]
  },
  {
   "cell_type": "code",
   "execution_count": 16,
   "id": "8081b2a3-2151-462c-83b9-f36b737f9cc4",
   "metadata": {},
   "outputs": [],
   "source": [
    " location_preference_assignments=np.random.uniform(low=0.0,high=1.0,size=size_loc)"
   ]
  },
  {
   "cell_type": "code",
   "execution_count": 17,
   "id": "a60f54c1-8471-4e9c-b751-8c0ede7ad066",
   "metadata": {},
   "outputs": [],
   "source": [
    "#mke a func#"
   ]
  },
  {
   "cell_type": "code",
   "execution_count": 18,
   "id": "2d2779cc-9583-4d20-9d85-b5401970eedd",
   "metadata": {},
   "outputs": [],
   "source": [
    "size_edge=len(edges)"
   ]
  },
  {
   "cell_type": "code",
   "execution_count": 19,
   "id": "67dc5c3f-e192-4d7e-8471-b5f977b31ee8",
   "metadata": {},
   "outputs": [],
   "source": [
    " edge_preference_assignments =np.random.uniform(low=0.0,high=0.1,size=size_edge)"
   ]
  },
  {
   "cell_type": "code",
   "execution_count": 20,
   "id": "1ccfd9f2-d88d-41de-9c76-66e9d5af2cc6",
   "metadata": {},
   "outputs": [
    {
     "data": {
      "text/plain": [
       "424"
      ]
     },
     "execution_count": 20,
     "metadata": {},
     "output_type": "execute_result"
    }
   ],
   "source": [
    "len(edges)"
   ]
  },
  {
   "cell_type": "code",
   "execution_count": 21,
   "id": "7008eba5-3a46-458a-893a-b490a2a415c1",
   "metadata": {},
   "outputs": [],
   "source": [
    "edges[\"Preference\"]= edge_preference_assignments"
   ]
  },
  {
   "cell_type": "code",
   "execution_count": 22,
   "id": "cb50e20a-fb4f-4a29-a366-b111df587d42",
   "metadata": {},
   "outputs": [],
   "source": [
    "locations['Preference']=location_preference_assignments"
   ]
  },
  {
   "cell_type": "code",
   "execution_count": 23,
   "id": "017b1dd0-f947-461e-8284-44626f0cf406",
   "metadata": {},
   "outputs": [
    {
     "data": {
      "text/html": [
       "<div>\n",
       "<style scoped>\n",
       "    .dataframe tbody tr th:only-of-type {\n",
       "        vertical-align: middle;\n",
       "    }\n",
       "\n",
       "    .dataframe tbody tr th {\n",
       "        vertical-align: top;\n",
       "    }\n",
       "\n",
       "    .dataframe thead th {\n",
       "        text-align: right;\n",
       "    }\n",
       "</style>\n",
       "<table border=\"1\" class=\"dataframe\">\n",
       "  <thead>\n",
       "    <tr style=\"text-align: right;\">\n",
       "      <th></th>\n",
       "      <th>Location Label</th>\n",
       "      <th>Latitude</th>\n",
       "      <th>Longitude</th>\n",
       "      <th>Contributer</th>\n",
       "      <th>Notes</th>\n",
       "      <th>Preference</th>\n",
       "    </tr>\n",
       "  </thead>\n",
       "  <tbody>\n",
       "    <tr>\n",
       "      <th>0</th>\n",
       "      <td>NashvilleTN</td>\n",
       "      <td>36.174465</td>\n",
       "      <td>-86.767960</td>\n",
       "      <td>IT</td>\n",
       "      <td>IT = the instructional team</td>\n",
       "      <td>0.550798</td>\n",
       "    </tr>\n",
       "    <tr>\n",
       "      <th>1</th>\n",
       "      <td>MemphisTN</td>\n",
       "      <td>35.117500</td>\n",
       "      <td>-89.971107</td>\n",
       "      <td>IT</td>\n",
       "      <td>NaN</td>\n",
       "      <td>0.708148</td>\n",
       "    </tr>\n",
       "    <tr>\n",
       "      <th>2</th>\n",
       "      <td>JacksonTN</td>\n",
       "      <td>35.614517</td>\n",
       "      <td>-88.813947</td>\n",
       "      <td>IT</td>\n",
       "      <td>NaN</td>\n",
       "      <td>0.290905</td>\n",
       "    </tr>\n",
       "    <tr>\n",
       "      <th>3</th>\n",
       "      <td>SanJoseCA</td>\n",
       "      <td>37.338700</td>\n",
       "      <td>-121.885250</td>\n",
       "      <td>IT</td>\n",
       "      <td>NaN</td>\n",
       "      <td>0.510828</td>\n",
       "    </tr>\n",
       "    <tr>\n",
       "      <th>4</th>\n",
       "      <td>LouisvilleKY</td>\n",
       "      <td>38.252660</td>\n",
       "      <td>-85.758450</td>\n",
       "      <td>IT</td>\n",
       "      <td>NaN</td>\n",
       "      <td>0.892947</td>\n",
       "    </tr>\n",
       "  </tbody>\n",
       "</table>\n",
       "</div>"
      ],
      "text/plain": [
       "  Location Label   Latitude   Longitude Contributer  \\\n",
       "0    NashvilleTN  36.174465  -86.767960          IT   \n",
       "1      MemphisTN  35.117500  -89.971107          IT   \n",
       "2      JacksonTN  35.614517  -88.813947          IT   \n",
       "3      SanJoseCA  37.338700 -121.885250          IT   \n",
       "4   LouisvilleKY  38.252660  -85.758450          IT   \n",
       "\n",
       "                         Notes  Preference  \n",
       "0  IT = the instructional team    0.550798  \n",
       "1                          NaN    0.708148  \n",
       "2                          NaN    0.290905  \n",
       "3                          NaN    0.510828  \n",
       "4                          NaN    0.892947  "
      ]
     },
     "execution_count": 23,
     "metadata": {},
     "output_type": "execute_result"
    }
   ],
   "source": [
    "locations.head()"
   ]
  },
  {
   "cell_type": "code",
   "execution_count": 24,
   "id": "e968a958-24c5-4376-a95c-c3bccd98ea15",
   "metadata": {},
   "outputs": [
    {
     "data": {
      "text/html": [
       "<div>\n",
       "<style scoped>\n",
       "    .dataframe tbody tr th:only-of-type {\n",
       "        vertical-align: middle;\n",
       "    }\n",
       "\n",
       "    .dataframe tbody tr th {\n",
       "        vertical-align: top;\n",
       "    }\n",
       "\n",
       "    .dataframe thead th {\n",
       "        text-align: right;\n",
       "    }\n",
       "</style>\n",
       "<table border=\"1\" class=\"dataframe\">\n",
       "  <thead>\n",
       "    <tr style=\"text-align: right;\">\n",
       "      <th></th>\n",
       "      <th>edgeLabel</th>\n",
       "      <th>locationA</th>\n",
       "      <th>locationB</th>\n",
       "      <th>actualDistance</th>\n",
       "      <th>Contributer</th>\n",
       "      <th>Notes</th>\n",
       "      <th>Preference</th>\n",
       "    </tr>\n",
       "  </thead>\n",
       "  <tbody>\n",
       "    <tr>\n",
       "      <th>0</th>\n",
       "      <td>Nashville_tofrom_Jackson_on_I40</td>\n",
       "      <td>NashvilleTN</td>\n",
       "      <td>JacksonTN</td>\n",
       "      <td>129.0</td>\n",
       "      <td>IT</td>\n",
       "      <td>IT = the instructional team</td>\n",
       "      <td>0.029469</td>\n",
       "    </tr>\n",
       "    <tr>\n",
       "      <th>1</th>\n",
       "      <td>Jackson_tofrom_Memphis_on_I40</td>\n",
       "      <td>JacksonTN</td>\n",
       "      <td>MemphisTN</td>\n",
       "      <td>88.0</td>\n",
       "      <td>IT</td>\n",
       "      <td>NaN</td>\n",
       "      <td>0.098811</td>\n",
       "    </tr>\n",
       "    <tr>\n",
       "      <th>2</th>\n",
       "      <td>Nashville_tofrom_BowlingGreen_on_I65</td>\n",
       "      <td>NashvilleTN</td>\n",
       "      <td>BowlingGreenKY</td>\n",
       "      <td>66.0</td>\n",
       "      <td>IT</td>\n",
       "      <td>NaN</td>\n",
       "      <td>0.097122</td>\n",
       "    </tr>\n",
       "    <tr>\n",
       "      <th>3</th>\n",
       "      <td>Louisville_tofrom_BowlingGreen_on_I65</td>\n",
       "      <td>LouisvilleKY</td>\n",
       "      <td>BowlingGreenKY</td>\n",
       "      <td>117.0</td>\n",
       "      <td>IT</td>\n",
       "      <td>NaN</td>\n",
       "      <td>0.048185</td>\n",
       "    </tr>\n",
       "    <tr>\n",
       "      <th>4</th>\n",
       "      <td>Indianapolis_tofrom_Louisville</td>\n",
       "      <td>IndianapolisIN</td>\n",
       "      <td>LouisvilleKY</td>\n",
       "      <td>114.0</td>\n",
       "      <td>IT</td>\n",
       "      <td>NaN</td>\n",
       "      <td>0.073569</td>\n",
       "    </tr>\n",
       "  </tbody>\n",
       "</table>\n",
       "</div>"
      ],
      "text/plain": [
       "                               edgeLabel       locationA       locationB  \\\n",
       "0        Nashville_tofrom_Jackson_on_I40     NashvilleTN       JacksonTN   \n",
       "1          Jackson_tofrom_Memphis_on_I40       JacksonTN       MemphisTN   \n",
       "2   Nashville_tofrom_BowlingGreen_on_I65     NashvilleTN  BowlingGreenKY   \n",
       "3  Louisville_tofrom_BowlingGreen_on_I65    LouisvilleKY  BowlingGreenKY   \n",
       "4         Indianapolis_tofrom_Louisville  IndianapolisIN    LouisvilleKY   \n",
       "\n",
       "   actualDistance Contributer                        Notes  Preference  \n",
       "0           129.0          IT  IT = the instructional team    0.029469  \n",
       "1            88.0          IT                          NaN    0.098811  \n",
       "2            66.0          IT                          NaN    0.097122  \n",
       "3           117.0          IT                          NaN    0.048185  \n",
       "4           114.0          IT                          NaN    0.073569  "
      ]
     },
     "execution_count": 24,
     "metadata": {},
     "output_type": "execute_result"
    }
   ],
   "source": [
    "edges.head()"
   ]
  },
  {
   "cell_type": "markdown",
   "id": "042a4bbf-b395-4003-bc7b-c0801ee7766f",
   "metadata": {},
   "source": [
    "Creating a id for our dataset to allow us to easily tag roads and location"
   ]
  },
  {
   "cell_type": "code",
   "execution_count": 25,
   "id": "393c46b9-c89c-4d16-81ac-2f2db40e212c",
   "metadata": {
    "tags": []
   },
   "outputs": [],
   "source": [
    "loc_id=np.array([i for i in range(1,size_loc+1)])"
   ]
  },
  {
   "cell_type": "code",
   "execution_count": 26,
   "id": "9251cc22-e7b0-4c4b-94d7-c769d9081ad6",
   "metadata": {
    "tags": []
   },
   "outputs": [],
   "source": [
    "edge_id=np.array([i for i in range(1,size_edge+1)])"
   ]
  },
  {
   "cell_type": "code",
   "execution_count": 27,
   "id": "0f569697-fd08-41c0-9638-eb7cce717694",
   "metadata": {
    "tags": []
   },
   "outputs": [],
   "source": [
    "locations['id']=loc_id"
   ]
  },
  {
   "cell_type": "code",
   "execution_count": 28,
   "id": "f7272a9a-352c-4cb8-9e66-f1151249cbc8",
   "metadata": {
    "tags": []
   },
   "outputs": [],
   "source": [
    "edges['id']=edge_id"
   ]
  },
  {
   "cell_type": "code",
   "execution_count": 29,
   "id": "2408d05d-d1e8-4cc5-92d1-5d2cada38f76",
   "metadata": {
    "tags": []
   },
   "outputs": [
    {
     "data": {
      "text/html": [
       "<div>\n",
       "<style scoped>\n",
       "    .dataframe tbody tr th:only-of-type {\n",
       "        vertical-align: middle;\n",
       "    }\n",
       "\n",
       "    .dataframe tbody tr th {\n",
       "        vertical-align: top;\n",
       "    }\n",
       "\n",
       "    .dataframe thead th {\n",
       "        text-align: right;\n",
       "    }\n",
       "</style>\n",
       "<table border=\"1\" class=\"dataframe\">\n",
       "  <thead>\n",
       "    <tr style=\"text-align: right;\">\n",
       "      <th></th>\n",
       "      <th>edgeLabel</th>\n",
       "      <th>locationA</th>\n",
       "      <th>locationB</th>\n",
       "      <th>actualDistance</th>\n",
       "      <th>Contributer</th>\n",
       "      <th>Notes</th>\n",
       "      <th>Preference</th>\n",
       "      <th>id</th>\n",
       "    </tr>\n",
       "  </thead>\n",
       "  <tbody>\n",
       "    <tr>\n",
       "      <th>0</th>\n",
       "      <td>Nashville_tofrom_Jackson_on_I40</td>\n",
       "      <td>NashvilleTN</td>\n",
       "      <td>JacksonTN</td>\n",
       "      <td>129.0</td>\n",
       "      <td>IT</td>\n",
       "      <td>IT = the instructional team</td>\n",
       "      <td>0.029469</td>\n",
       "      <td>1</td>\n",
       "    </tr>\n",
       "    <tr>\n",
       "      <th>1</th>\n",
       "      <td>Jackson_tofrom_Memphis_on_I40</td>\n",
       "      <td>JacksonTN</td>\n",
       "      <td>MemphisTN</td>\n",
       "      <td>88.0</td>\n",
       "      <td>IT</td>\n",
       "      <td>NaN</td>\n",
       "      <td>0.098811</td>\n",
       "      <td>2</td>\n",
       "    </tr>\n",
       "    <tr>\n",
       "      <th>2</th>\n",
       "      <td>Nashville_tofrom_BowlingGreen_on_I65</td>\n",
       "      <td>NashvilleTN</td>\n",
       "      <td>BowlingGreenKY</td>\n",
       "      <td>66.0</td>\n",
       "      <td>IT</td>\n",
       "      <td>NaN</td>\n",
       "      <td>0.097122</td>\n",
       "      <td>3</td>\n",
       "    </tr>\n",
       "    <tr>\n",
       "      <th>3</th>\n",
       "      <td>Louisville_tofrom_BowlingGreen_on_I65</td>\n",
       "      <td>LouisvilleKY</td>\n",
       "      <td>BowlingGreenKY</td>\n",
       "      <td>117.0</td>\n",
       "      <td>IT</td>\n",
       "      <td>NaN</td>\n",
       "      <td>0.048185</td>\n",
       "      <td>4</td>\n",
       "    </tr>\n",
       "    <tr>\n",
       "      <th>4</th>\n",
       "      <td>Indianapolis_tofrom_Louisville</td>\n",
       "      <td>IndianapolisIN</td>\n",
       "      <td>LouisvilleKY</td>\n",
       "      <td>114.0</td>\n",
       "      <td>IT</td>\n",
       "      <td>NaN</td>\n",
       "      <td>0.073569</td>\n",
       "      <td>5</td>\n",
       "    </tr>\n",
       "  </tbody>\n",
       "</table>\n",
       "</div>"
      ],
      "text/plain": [
       "                               edgeLabel       locationA       locationB  \\\n",
       "0        Nashville_tofrom_Jackson_on_I40     NashvilleTN       JacksonTN   \n",
       "1          Jackson_tofrom_Memphis_on_I40       JacksonTN       MemphisTN   \n",
       "2   Nashville_tofrom_BowlingGreen_on_I65     NashvilleTN  BowlingGreenKY   \n",
       "3  Louisville_tofrom_BowlingGreen_on_I65    LouisvilleKY  BowlingGreenKY   \n",
       "4         Indianapolis_tofrom_Louisville  IndianapolisIN    LouisvilleKY   \n",
       "\n",
       "   actualDistance Contributer                        Notes  Preference  id  \n",
       "0           129.0          IT  IT = the instructional team    0.029469   1  \n",
       "1            88.0          IT                          NaN    0.098811   2  \n",
       "2            66.0          IT                          NaN    0.097122   3  \n",
       "3           117.0          IT                          NaN    0.048185   4  \n",
       "4           114.0          IT                          NaN    0.073569   5  "
      ]
     },
     "execution_count": 29,
     "metadata": {},
     "output_type": "execute_result"
    }
   ],
   "source": [
    "edges.head()"
   ]
  },
  {
   "cell_type": "code",
   "execution_count": 30,
   "id": "00d70a7b-7756-4984-b1e1-f3e6e324cdb1",
   "metadata": {
    "tags": []
   },
   "outputs": [
    {
     "data": {
      "text/html": [
       "<div>\n",
       "<style scoped>\n",
       "    .dataframe tbody tr th:only-of-type {\n",
       "        vertical-align: middle;\n",
       "    }\n",
       "\n",
       "    .dataframe tbody tr th {\n",
       "        vertical-align: top;\n",
       "    }\n",
       "\n",
       "    .dataframe thead th {\n",
       "        text-align: right;\n",
       "    }\n",
       "</style>\n",
       "<table border=\"1\" class=\"dataframe\">\n",
       "  <thead>\n",
       "    <tr style=\"text-align: right;\">\n",
       "      <th></th>\n",
       "      <th>Location Label</th>\n",
       "      <th>Latitude</th>\n",
       "      <th>Longitude</th>\n",
       "      <th>Contributer</th>\n",
       "      <th>Notes</th>\n",
       "      <th>Preference</th>\n",
       "      <th>id</th>\n",
       "    </tr>\n",
       "  </thead>\n",
       "  <tbody>\n",
       "    <tr>\n",
       "      <th>0</th>\n",
       "      <td>NashvilleTN</td>\n",
       "      <td>36.174465</td>\n",
       "      <td>-86.767960</td>\n",
       "      <td>IT</td>\n",
       "      <td>IT = the instructional team</td>\n",
       "      <td>0.550798</td>\n",
       "      <td>1</td>\n",
       "    </tr>\n",
       "    <tr>\n",
       "      <th>1</th>\n",
       "      <td>MemphisTN</td>\n",
       "      <td>35.117500</td>\n",
       "      <td>-89.971107</td>\n",
       "      <td>IT</td>\n",
       "      <td>NaN</td>\n",
       "      <td>0.708148</td>\n",
       "      <td>2</td>\n",
       "    </tr>\n",
       "    <tr>\n",
       "      <th>2</th>\n",
       "      <td>JacksonTN</td>\n",
       "      <td>35.614517</td>\n",
       "      <td>-88.813947</td>\n",
       "      <td>IT</td>\n",
       "      <td>NaN</td>\n",
       "      <td>0.290905</td>\n",
       "      <td>3</td>\n",
       "    </tr>\n",
       "    <tr>\n",
       "      <th>3</th>\n",
       "      <td>SanJoseCA</td>\n",
       "      <td>37.338700</td>\n",
       "      <td>-121.885250</td>\n",
       "      <td>IT</td>\n",
       "      <td>NaN</td>\n",
       "      <td>0.510828</td>\n",
       "      <td>4</td>\n",
       "    </tr>\n",
       "    <tr>\n",
       "      <th>4</th>\n",
       "      <td>LouisvilleKY</td>\n",
       "      <td>38.252660</td>\n",
       "      <td>-85.758450</td>\n",
       "      <td>IT</td>\n",
       "      <td>NaN</td>\n",
       "      <td>0.892947</td>\n",
       "      <td>5</td>\n",
       "    </tr>\n",
       "  </tbody>\n",
       "</table>\n",
       "</div>"
      ],
      "text/plain": [
       "  Location Label   Latitude   Longitude Contributer  \\\n",
       "0    NashvilleTN  36.174465  -86.767960          IT   \n",
       "1      MemphisTN  35.117500  -89.971107          IT   \n",
       "2      JacksonTN  35.614517  -88.813947          IT   \n",
       "3      SanJoseCA  37.338700 -121.885250          IT   \n",
       "4   LouisvilleKY  38.252660  -85.758450          IT   \n",
       "\n",
       "                         Notes  Preference  id  \n",
       "0  IT = the instructional team    0.550798   1  \n",
       "1                          NaN    0.708148   2  \n",
       "2                          NaN    0.290905   3  \n",
       "3                          NaN    0.510828   4  \n",
       "4                          NaN    0.892947   5  "
      ]
     },
     "execution_count": 30,
     "metadata": {},
     "output_type": "execute_result"
    }
   ],
   "source": [
    "locations.head()"
   ]
  },
  {
   "cell_type": "markdown",
   "id": "25eaccbc-9c11-445e-9d0c-819ac6859a7c",
   "metadata": {},
   "source": [
    "How do we select elements of a certain id in pandas?"
   ]
  },
  {
   "cell_type": "code",
   "execution_count": 31,
   "id": "f4576a0c-4215-4870-9d45-e74657adb91f",
   "metadata": {
    "tags": []
   },
   "outputs": [],
   "source": [
    "t=locations[locations['id']==1]['Preference']"
   ]
  },
  {
   "cell_type": "code",
   "execution_count": 32,
   "id": "fb1e93ed-7351-4f29-87e7-a5d31901c1dc",
   "metadata": {
    "tags": []
   },
   "outputs": [
    {
     "data": {
      "text/plain": [
       "0    0.550798\n",
       "Name: Preference, dtype: float64"
      ]
     },
     "execution_count": 32,
     "metadata": {},
     "output_type": "execute_result"
    }
   ],
   "source": [
    "t"
   ]
  },
  {
   "cell_type": "markdown",
   "id": "006edf09-95ff-4ef8-9518-0e00219fc5ce",
   "metadata": {},
   "source": [
    "How do we select a row if we have a bunch of values of id ? "
   ]
  },
  {
   "cell_type": "code",
   "execution_count": 33,
   "id": "fc528b5e-329e-41c0-8c6c-ad7eb421906a",
   "metadata": {
    "tags": []
   },
   "outputs": [],
   "source": [
    "ids=[1,2,3,4,5,6,7]"
   ]
  },
  {
   "cell_type": "code",
   "execution_count": 84,
   "id": "e12b582d-5e40-4b36-a6e0-41a479c57184",
   "metadata": {},
   "outputs": [
    {
     "data": {
      "text/html": [
       "<div>\n",
       "<style scoped>\n",
       "    .dataframe tbody tr th:only-of-type {\n",
       "        vertical-align: middle;\n",
       "    }\n",
       "\n",
       "    .dataframe tbody tr th {\n",
       "        vertical-align: top;\n",
       "    }\n",
       "\n",
       "    .dataframe thead th {\n",
       "        text-align: right;\n",
       "    }\n",
       "</style>\n",
       "<table border=\"1\" class=\"dataframe\">\n",
       "  <thead>\n",
       "    <tr style=\"text-align: right;\">\n",
       "      <th></th>\n",
       "      <th>edgeLabel</th>\n",
       "      <th>locationA</th>\n",
       "      <th>locationB</th>\n",
       "      <th>actualDistance</th>\n",
       "      <th>Contributer</th>\n",
       "      <th>Notes</th>\n",
       "      <th>Preference</th>\n",
       "      <th>id</th>\n",
       "      <th>base_time</th>\n",
       "      <th>additional_time</th>\n",
       "    </tr>\n",
       "  </thead>\n",
       "  <tbody>\n",
       "    <tr>\n",
       "      <th>0</th>\n",
       "      <td>Nashville_tofrom_Jackson_on_I40</td>\n",
       "      <td>NashvilleTN</td>\n",
       "      <td>JacksonTN</td>\n",
       "      <td>129.0</td>\n",
       "      <td>IT</td>\n",
       "      <td>IT = the instructional team</td>\n",
       "      <td>0.029469</td>\n",
       "      <td>1</td>\n",
       "      <td>4.300000</td>\n",
       "      <td>0.294693</td>\n",
       "    </tr>\n",
       "    <tr>\n",
       "      <th>1</th>\n",
       "      <td>Jackson_tofrom_Memphis_on_I40</td>\n",
       "      <td>JacksonTN</td>\n",
       "      <td>MemphisTN</td>\n",
       "      <td>88.0</td>\n",
       "      <td>IT</td>\n",
       "      <td>NaN</td>\n",
       "      <td>0.098811</td>\n",
       "      <td>2</td>\n",
       "      <td>2.933333</td>\n",
       "      <td>0.988113</td>\n",
       "    </tr>\n",
       "    <tr>\n",
       "      <th>2</th>\n",
       "      <td>Nashville_tofrom_BowlingGreen_on_I65</td>\n",
       "      <td>NashvilleTN</td>\n",
       "      <td>BowlingGreenKY</td>\n",
       "      <td>66.0</td>\n",
       "      <td>IT</td>\n",
       "      <td>NaN</td>\n",
       "      <td>0.097122</td>\n",
       "      <td>3</td>\n",
       "      <td>2.200000</td>\n",
       "      <td>0.971222</td>\n",
       "    </tr>\n",
       "    <tr>\n",
       "      <th>3</th>\n",
       "      <td>Louisville_tofrom_BowlingGreen_on_I65</td>\n",
       "      <td>LouisvilleKY</td>\n",
       "      <td>BowlingGreenKY</td>\n",
       "      <td>117.0</td>\n",
       "      <td>IT</td>\n",
       "      <td>NaN</td>\n",
       "      <td>0.048185</td>\n",
       "      <td>4</td>\n",
       "      <td>3.900000</td>\n",
       "      <td>0.481846</td>\n",
       "    </tr>\n",
       "    <tr>\n",
       "      <th>4</th>\n",
       "      <td>Indianapolis_tofrom_Louisville</td>\n",
       "      <td>IndianapolisIN</td>\n",
       "      <td>LouisvilleKY</td>\n",
       "      <td>114.0</td>\n",
       "      <td>IT</td>\n",
       "      <td>NaN</td>\n",
       "      <td>0.073569</td>\n",
       "      <td>5</td>\n",
       "      <td>3.800000</td>\n",
       "      <td>0.735693</td>\n",
       "    </tr>\n",
       "  </tbody>\n",
       "</table>\n",
       "</div>"
      ],
      "text/plain": [
       "                               edgeLabel       locationA       locationB  \\\n",
       "0        Nashville_tofrom_Jackson_on_I40     NashvilleTN       JacksonTN   \n",
       "1          Jackson_tofrom_Memphis_on_I40       JacksonTN       MemphisTN   \n",
       "2   Nashville_tofrom_BowlingGreen_on_I65     NashvilleTN  BowlingGreenKY   \n",
       "3  Louisville_tofrom_BowlingGreen_on_I65    LouisvilleKY  BowlingGreenKY   \n",
       "4         Indianapolis_tofrom_Louisville  IndianapolisIN    LouisvilleKY   \n",
       "\n",
       "   actualDistance Contributer                        Notes  Preference  id  \\\n",
       "0           129.0          IT  IT = the instructional team    0.029469   1   \n",
       "1            88.0          IT                          NaN    0.098811   2   \n",
       "2            66.0          IT                          NaN    0.097122   3   \n",
       "3           117.0          IT                          NaN    0.048185   4   \n",
       "4           114.0          IT                          NaN    0.073569   5   \n",
       "\n",
       "   base_time  additional_time  \n",
       "0   4.300000         0.294693  \n",
       "1   2.933333         0.988113  \n",
       "2   2.200000         0.971222  \n",
       "3   3.900000         0.481846  \n",
       "4   3.800000         0.735693  "
      ]
     },
     "execution_count": 84,
     "metadata": {},
     "output_type": "execute_result"
    }
   ],
   "source": [
    "edges.head()"
   ]
  },
  {
   "cell_type": "code",
   "execution_count": 34,
   "id": "448e6695-21e7-4d9f-8715-43727a9ecd2e",
   "metadata": {
    "tags": []
   },
   "outputs": [
    {
     "data": {
      "text/plain": [
       "0    0.550798\n",
       "1    0.708148\n",
       "2    0.290905\n",
       "3    0.510828\n",
       "4    0.892947\n",
       "5    0.896293\n",
       "6    0.125585\n",
       "Name: Preference, dtype: float64"
      ]
     },
     "execution_count": 34,
     "metadata": {},
     "output_type": "execute_result"
    }
   ],
   "source": [
    "locations[locations['id'].isin(ids)]['Preference']"
   ]
  },
  {
   "cell_type": "markdown",
   "id": "57e89939-24a9-44e9-86b6-4a40da327743",
   "metadata": {},
   "source": [
    "we gotta sum the one up tho!!!"
   ]
  },
  {
   "cell_type": "markdown",
   "id": "792ce214-bc16-4edf-8342-8bd2a3685d64",
   "metadata": {},
   "source": [
    "How do we select locations based on the edge ids??\n",
    "get locids from edge ids???"
   ]
  },
  {
   "cell_type": "code",
   "execution_count": 35,
   "id": "d83c7354-c443-411a-aad4-2dcbe7a9669e",
   "metadata": {
    "tags": []
   },
   "outputs": [],
   "source": [
    "col='id'"
   ]
  },
  {
   "cell_type": "code",
   "execution_count": 36,
   "id": "34cb6a7c-5c8e-44ed-ace2-b231a9eb7089",
   "metadata": {
    "tags": []
   },
   "outputs": [
    {
     "data": {
      "text/html": [
       "<div>\n",
       "<style scoped>\n",
       "    .dataframe tbody tr th:only-of-type {\n",
       "        vertical-align: middle;\n",
       "    }\n",
       "\n",
       "    .dataframe tbody tr th {\n",
       "        vertical-align: top;\n",
       "    }\n",
       "\n",
       "    .dataframe thead th {\n",
       "        text-align: right;\n",
       "    }\n",
       "</style>\n",
       "<table border=\"1\" class=\"dataframe\">\n",
       "  <thead>\n",
       "    <tr style=\"text-align: right;\">\n",
       "      <th></th>\n",
       "      <th>Location Label</th>\n",
       "      <th>Latitude</th>\n",
       "      <th>Longitude</th>\n",
       "      <th>Contributer</th>\n",
       "      <th>Notes</th>\n",
       "      <th>Preference</th>\n",
       "      <th>id</th>\n",
       "    </tr>\n",
       "  </thead>\n",
       "  <tbody>\n",
       "    <tr>\n",
       "      <th>0</th>\n",
       "      <td>NashvilleTN</td>\n",
       "      <td>36.174465</td>\n",
       "      <td>-86.767960</td>\n",
       "      <td>IT</td>\n",
       "      <td>IT = the instructional team</td>\n",
       "      <td>0.550798</td>\n",
       "      <td>1</td>\n",
       "    </tr>\n",
       "    <tr>\n",
       "      <th>1</th>\n",
       "      <td>MemphisTN</td>\n",
       "      <td>35.117500</td>\n",
       "      <td>-89.971107</td>\n",
       "      <td>IT</td>\n",
       "      <td>NaN</td>\n",
       "      <td>0.708148</td>\n",
       "      <td>2</td>\n",
       "    </tr>\n",
       "    <tr>\n",
       "      <th>2</th>\n",
       "      <td>JacksonTN</td>\n",
       "      <td>35.614517</td>\n",
       "      <td>-88.813947</td>\n",
       "      <td>IT</td>\n",
       "      <td>NaN</td>\n",
       "      <td>0.290905</td>\n",
       "      <td>3</td>\n",
       "    </tr>\n",
       "    <tr>\n",
       "      <th>3</th>\n",
       "      <td>SanJoseCA</td>\n",
       "      <td>37.338700</td>\n",
       "      <td>-121.885250</td>\n",
       "      <td>IT</td>\n",
       "      <td>NaN</td>\n",
       "      <td>0.510828</td>\n",
       "      <td>4</td>\n",
       "    </tr>\n",
       "    <tr>\n",
       "      <th>4</th>\n",
       "      <td>LouisvilleKY</td>\n",
       "      <td>38.252660</td>\n",
       "      <td>-85.758450</td>\n",
       "      <td>IT</td>\n",
       "      <td>NaN</td>\n",
       "      <td>0.892947</td>\n",
       "      <td>5</td>\n",
       "    </tr>\n",
       "    <tr>\n",
       "      <th>5</th>\n",
       "      <td>BowlingGreenKY</td>\n",
       "      <td>36.968520</td>\n",
       "      <td>-86.480800</td>\n",
       "      <td>IT</td>\n",
       "      <td>NaN</td>\n",
       "      <td>0.896293</td>\n",
       "      <td>6</td>\n",
       "    </tr>\n",
       "    <tr>\n",
       "      <th>6</th>\n",
       "      <td>IndianapolisIN</td>\n",
       "      <td>39.768400</td>\n",
       "      <td>-86.158060</td>\n",
       "      <td>IT</td>\n",
       "      <td>NaN</td>\n",
       "      <td>0.125585</td>\n",
       "      <td>7</td>\n",
       "    </tr>\n",
       "  </tbody>\n",
       "</table>\n",
       "</div>"
      ],
      "text/plain": [
       "   Location Label   Latitude   Longitude Contributer  \\\n",
       "0     NashvilleTN  36.174465  -86.767960          IT   \n",
       "1       MemphisTN  35.117500  -89.971107          IT   \n",
       "2       JacksonTN  35.614517  -88.813947          IT   \n",
       "3       SanJoseCA  37.338700 -121.885250          IT   \n",
       "4    LouisvilleKY  38.252660  -85.758450          IT   \n",
       "5  BowlingGreenKY  36.968520  -86.480800          IT   \n",
       "6  IndianapolisIN  39.768400  -86.158060          IT   \n",
       "\n",
       "                         Notes  Preference  id  \n",
       "0  IT = the instructional team    0.550798   1  \n",
       "1                          NaN    0.708148   2  \n",
       "2                          NaN    0.290905   3  \n",
       "3                          NaN    0.510828   4  \n",
       "4                          NaN    0.892947   5  \n",
       "5                          NaN    0.896293   6  \n",
       "6                          NaN    0.125585   7  "
      ]
     },
     "execution_count": 36,
     "metadata": {},
     "output_type": "execute_result"
    }
   ],
   "source": [
    "locations[locations[col].isin(ids)]"
   ]
  },
  {
   "cell_type": "markdown",
   "id": "2b24f845-cb8a-4542-bea1-5f6f66274c95",
   "metadata": {},
   "source": [
    "we kinda found pref values for every data frame but this query has the potential to be optimized"
   ]
  },
  {
   "cell_type": "markdown",
   "id": "2c6dd1e7-ced5-4959-8897-8763f7086892",
   "metadata": {},
   "source": [
    "total_preference() : \n",
    "takes values for a particular edge column : (like the labels for the visited edges), \n",
    "and the column name : (shuld be in edge)\n",
    "it returns the : tot_pref=edge_pref+start_loc_pref+end_loc_pref; for every value associated with the column"
   ]
  },
  {
   "cell_type": "code",
   "execution_count": 37,
   "id": "e640f90a-07a4-4fa5-80fc-2906966b3500",
   "metadata": {
    "tags": []
   },
   "outputs": [],
   "source": [
    "def total_preference(values,col):\n",
    "    edges_considered=edges[edges[col].isin(values)]    \n",
    "    return sum(edges_considered['Preference'])+sum(locations[locations['Location Label'].isin(pd.concat([edges_considered['locationA'], edges_considered['locationB']], axis=0))]['Preference'])\n",
    "       \n",
    "    "
   ]
  },
  {
   "cell_type": "code",
   "execution_count": 38,
   "id": "5265ebbe-0dee-492c-b5d4-cc8230c2198d",
   "metadata": {
    "tags": []
   },
   "outputs": [
    {
     "data": {
      "text/plain": [
       "4.286155064621902"
      ]
     },
     "execution_count": 38,
     "metadata": {},
     "output_type": "execute_result"
    }
   ],
   "source": [
    "total_preference(ids,col)"
   ]
  },
  {
   "cell_type": "code",
   "execution_count": 39,
   "id": "66424509-b87a-4f39-965a-c05afdc10b2e",
   "metadata": {},
   "outputs": [],
   "source": [
    "def time_at_location(df,time_factor,col):\n",
    "    df[col] = df['Preference']*time_factor\n",
    "\n",
    "time_at_location(locations,10,'time_at_location')"
   ]
  },
  {
   "cell_type": "code",
   "execution_count": 40,
   "id": "eb0bcb90-a708-4ca0-addb-356a5ef406ff",
   "metadata": {},
   "outputs": [
    {
     "data": {
      "text/html": [
       "<div>\n",
       "<style scoped>\n",
       "    .dataframe tbody tr th:only-of-type {\n",
       "        vertical-align: middle;\n",
       "    }\n",
       "\n",
       "    .dataframe tbody tr th {\n",
       "        vertical-align: top;\n",
       "    }\n",
       "\n",
       "    .dataframe thead th {\n",
       "        text-align: right;\n",
       "    }\n",
       "</style>\n",
       "<table border=\"1\" class=\"dataframe\">\n",
       "  <thead>\n",
       "    <tr style=\"text-align: right;\">\n",
       "      <th></th>\n",
       "      <th>Location Label</th>\n",
       "      <th>Latitude</th>\n",
       "      <th>Longitude</th>\n",
       "      <th>Contributer</th>\n",
       "      <th>Notes</th>\n",
       "      <th>Preference</th>\n",
       "      <th>id</th>\n",
       "      <th>time_at_location</th>\n",
       "    </tr>\n",
       "  </thead>\n",
       "  <tbody>\n",
       "    <tr>\n",
       "      <th>0</th>\n",
       "      <td>NashvilleTN</td>\n",
       "      <td>36.174465</td>\n",
       "      <td>-86.767960</td>\n",
       "      <td>IT</td>\n",
       "      <td>IT = the instructional team</td>\n",
       "      <td>0.550798</td>\n",
       "      <td>1</td>\n",
       "      <td>5.507979</td>\n",
       "    </tr>\n",
       "    <tr>\n",
       "      <th>1</th>\n",
       "      <td>MemphisTN</td>\n",
       "      <td>35.117500</td>\n",
       "      <td>-89.971107</td>\n",
       "      <td>IT</td>\n",
       "      <td>NaN</td>\n",
       "      <td>0.708148</td>\n",
       "      <td>2</td>\n",
       "      <td>7.081478</td>\n",
       "    </tr>\n",
       "    <tr>\n",
       "      <th>2</th>\n",
       "      <td>JacksonTN</td>\n",
       "      <td>35.614517</td>\n",
       "      <td>-88.813947</td>\n",
       "      <td>IT</td>\n",
       "      <td>NaN</td>\n",
       "      <td>0.290905</td>\n",
       "      <td>3</td>\n",
       "      <td>2.909047</td>\n",
       "    </tr>\n",
       "    <tr>\n",
       "      <th>3</th>\n",
       "      <td>SanJoseCA</td>\n",
       "      <td>37.338700</td>\n",
       "      <td>-121.885250</td>\n",
       "      <td>IT</td>\n",
       "      <td>NaN</td>\n",
       "      <td>0.510828</td>\n",
       "      <td>4</td>\n",
       "      <td>5.108276</td>\n",
       "    </tr>\n",
       "    <tr>\n",
       "      <th>4</th>\n",
       "      <td>LouisvilleKY</td>\n",
       "      <td>38.252660</td>\n",
       "      <td>-85.758450</td>\n",
       "      <td>IT</td>\n",
       "      <td>NaN</td>\n",
       "      <td>0.892947</td>\n",
       "      <td>5</td>\n",
       "      <td>8.929470</td>\n",
       "    </tr>\n",
       "  </tbody>\n",
       "</table>\n",
       "</div>"
      ],
      "text/plain": [
       "  Location Label   Latitude   Longitude Contributer  \\\n",
       "0    NashvilleTN  36.174465  -86.767960          IT   \n",
       "1      MemphisTN  35.117500  -89.971107          IT   \n",
       "2      JacksonTN  35.614517  -88.813947          IT   \n",
       "3      SanJoseCA  37.338700 -121.885250          IT   \n",
       "4   LouisvilleKY  38.252660  -85.758450          IT   \n",
       "\n",
       "                         Notes  Preference  id  time_at_location  \n",
       "0  IT = the instructional team    0.550798   1          5.507979  \n",
       "1                          NaN    0.708148   2          7.081478  \n",
       "2                          NaN    0.290905   3          2.909047  \n",
       "3                          NaN    0.510828   4          5.108276  \n",
       "4                          NaN    0.892947   5          8.929470  "
      ]
     },
     "execution_count": 40,
     "metadata": {},
     "output_type": "execute_result"
    }
   ],
   "source": [
    "locations.head()"
   ]
  },
  {
   "cell_type": "code",
   "execution_count": 41,
   "id": "5acf1be7-db4f-4997-a3f2-468274d82d4d",
   "metadata": {},
   "outputs": [],
   "source": [
    "x=30"
   ]
  },
  {
   "cell_type": "code",
   "execution_count": 42,
   "id": "0868428c-b5fc-40a4-88b8-6d3b5f2743e3",
   "metadata": {},
   "outputs": [],
   "source": [
    "def base_time(edges,x) :\n",
    "    edges['base_time']=edges['actualDistance']/x\n",
    "\n",
    "base_time(edges,x)\n",
    "time_at_location(edges,10,'additional_time')"
   ]
  },
  {
   "cell_type": "code",
   "execution_count": 43,
   "id": "69d63dff-832e-400e-9731-fd05694808e2",
   "metadata": {},
   "outputs": [],
   "source": [
    "def base_time(edges,x) :\n",
    "    return sum(edges['actualDistance']/x)\n",
    "\n",
    "def time_at_location(df,time_factor):\n",
    "    return sum(df['Preference']*time_factor)\n",
    "\n",
    "def time_estimate(values,col,x):\n",
    "    edges_considered=edges[edges[col].isin(values)] \n",
    "    location_considered=locations[locations['Location Label'].isin(pd.concat([edges_considered['locationA'], edges_considered['locationB']], axis=0))]\n",
    "    return base_time(edges_considered,x) + time_at_location(location_considered,10) + time_at_location(edges_considered,10)\n",
    "    "
   ]
  },
  {
   "cell_type": "code",
   "execution_count": 44,
   "id": "3e160c62-e8fc-4924-aa65-010a565fd5a4",
   "metadata": {},
   "outputs": [
    {
     "data": {
      "text/plain": [
       "68.22821731288569"
      ]
     },
     "execution_count": 44,
     "metadata": {},
     "output_type": "execute_result"
    }
   ],
   "source": [
    "time_estimate(ids,col,x)"
   ]
  },
  {
   "cell_type": "markdown",
   "id": "5f1f36bb-25e5-4e56-a62d-b6d090e4f233",
   "metadata": {},
   "source": [
    "Our time estimate function considers the edges considered for these functions and returns the time estimate for these edges\n",
    "our total pref takes a roadtrip and returns the pref for a given trip\n",
    "we want a roadtrip function tho!!!"
   ]
  },
  {
   "cell_type": "code",
   "execution_count": 47,
   "id": "a9a6a8ad-d009-4233-af79-0f59238bc420",
   "metadata": {},
   "outputs": [
    {
     "data": {
      "text/html": [
       "<div>\n",
       "<style scoped>\n",
       "    .dataframe tbody tr th:only-of-type {\n",
       "        vertical-align: middle;\n",
       "    }\n",
       "\n",
       "    .dataframe tbody tr th {\n",
       "        vertical-align: top;\n",
       "    }\n",
       "\n",
       "    .dataframe thead th {\n",
       "        text-align: right;\n",
       "    }\n",
       "</style>\n",
       "<table border=\"1\" class=\"dataframe\">\n",
       "  <thead>\n",
       "    <tr style=\"text-align: right;\">\n",
       "      <th></th>\n",
       "      <th>edgeLabel</th>\n",
       "      <th>locationA</th>\n",
       "      <th>locationB</th>\n",
       "      <th>actualDistance</th>\n",
       "      <th>Contributer</th>\n",
       "      <th>Notes</th>\n",
       "      <th>Preference</th>\n",
       "      <th>id</th>\n",
       "      <th>base_time</th>\n",
       "      <th>additional_time</th>\n",
       "    </tr>\n",
       "  </thead>\n",
       "  <tbody>\n",
       "    <tr>\n",
       "      <th>0</th>\n",
       "      <td>Nashville_tofrom_Jackson_on_I40</td>\n",
       "      <td>NashvilleTN</td>\n",
       "      <td>JacksonTN</td>\n",
       "      <td>129.0</td>\n",
       "      <td>IT</td>\n",
       "      <td>IT = the instructional team</td>\n",
       "      <td>0.029469</td>\n",
       "      <td>1</td>\n",
       "      <td>4.300000</td>\n",
       "      <td>0.294693</td>\n",
       "    </tr>\n",
       "    <tr>\n",
       "      <th>1</th>\n",
       "      <td>Jackson_tofrom_Memphis_on_I40</td>\n",
       "      <td>JacksonTN</td>\n",
       "      <td>MemphisTN</td>\n",
       "      <td>88.0</td>\n",
       "      <td>IT</td>\n",
       "      <td>NaN</td>\n",
       "      <td>0.098811</td>\n",
       "      <td>2</td>\n",
       "      <td>2.933333</td>\n",
       "      <td>0.988113</td>\n",
       "    </tr>\n",
       "    <tr>\n",
       "      <th>2</th>\n",
       "      <td>Nashville_tofrom_BowlingGreen_on_I65</td>\n",
       "      <td>NashvilleTN</td>\n",
       "      <td>BowlingGreenKY</td>\n",
       "      <td>66.0</td>\n",
       "      <td>IT</td>\n",
       "      <td>NaN</td>\n",
       "      <td>0.097122</td>\n",
       "      <td>3</td>\n",
       "      <td>2.200000</td>\n",
       "      <td>0.971222</td>\n",
       "    </tr>\n",
       "    <tr>\n",
       "      <th>3</th>\n",
       "      <td>Louisville_tofrom_BowlingGreen_on_I65</td>\n",
       "      <td>LouisvilleKY</td>\n",
       "      <td>BowlingGreenKY</td>\n",
       "      <td>117.0</td>\n",
       "      <td>IT</td>\n",
       "      <td>NaN</td>\n",
       "      <td>0.048185</td>\n",
       "      <td>4</td>\n",
       "      <td>3.900000</td>\n",
       "      <td>0.481846</td>\n",
       "    </tr>\n",
       "    <tr>\n",
       "      <th>4</th>\n",
       "      <td>Indianapolis_tofrom_Louisville</td>\n",
       "      <td>IndianapolisIN</td>\n",
       "      <td>LouisvilleKY</td>\n",
       "      <td>114.0</td>\n",
       "      <td>IT</td>\n",
       "      <td>NaN</td>\n",
       "      <td>0.073569</td>\n",
       "      <td>5</td>\n",
       "      <td>3.800000</td>\n",
       "      <td>0.735693</td>\n",
       "    </tr>\n",
       "  </tbody>\n",
       "</table>\n",
       "</div>"
      ],
      "text/plain": [
       "                               edgeLabel       locationA       locationB  \\\n",
       "0        Nashville_tofrom_Jackson_on_I40     NashvilleTN       JacksonTN   \n",
       "1          Jackson_tofrom_Memphis_on_I40       JacksonTN       MemphisTN   \n",
       "2   Nashville_tofrom_BowlingGreen_on_I65     NashvilleTN  BowlingGreenKY   \n",
       "3  Louisville_tofrom_BowlingGreen_on_I65    LouisvilleKY  BowlingGreenKY   \n",
       "4         Indianapolis_tofrom_Louisville  IndianapolisIN    LouisvilleKY   \n",
       "\n",
       "   actualDistance Contributer                        Notes  Preference  id  \\\n",
       "0           129.0          IT  IT = the instructional team    0.029469   1   \n",
       "1            88.0          IT                          NaN    0.098811   2   \n",
       "2            66.0          IT                          NaN    0.097122   3   \n",
       "3           117.0          IT                          NaN    0.048185   4   \n",
       "4           114.0          IT                          NaN    0.073569   5   \n",
       "\n",
       "   base_time  additional_time  \n",
       "0   4.300000         0.294693  \n",
       "1   2.933333         0.988113  \n",
       "2   2.200000         0.971222  \n",
       "3   3.900000         0.481846  \n",
       "4   3.800000         0.735693  "
      ]
     },
     "execution_count": 47,
     "metadata": {},
     "output_type": "execute_result"
    }
   ],
   "source": [
    "edges.head()"
   ]
  },
  {
   "cell_type": "markdown",
   "id": "c4d947d6-55e9-4718-bb32-225c11331519",
   "metadata": {},
   "source": [
    "# Trying to Create a Anytime utility driven search algorithm"
   ]
  },
  {
   "cell_type": "markdown",
   "id": "4e9646a5-8f0b-44ad-8c9a-e4fbb14ddd52",
   "metadata": {},
   "source": [
    "## Idea : to use A* IDS to do this with some caveats\n",
    "### Create Solutions and remove the returning goal node problem with returning to solution graph -> then ask the user is shown this path\n",
    "### utility : total preference of a road trip- Alpha * (distance from source node)\n",
    "### this may not be the best metric as the distance from the source node decreases it might start picking nodes which away from the destination.\n",
    "### pick two nodes G,S at an iteration i try to find the path between these nodes! maybe not\n",
    "### set the goal node = source node\n"
   ]
  },
  {
   "cell_type": "code",
   "execution_count": 76,
   "id": "9422791b-2815-446b-9a85-a1d1220055b1",
   "metadata": {},
   "outputs": [
    {
     "data": {
      "text/html": [
       "<div>\n",
       "<style scoped>\n",
       "    .dataframe tbody tr th:only-of-type {\n",
       "        vertical-align: middle;\n",
       "    }\n",
       "\n",
       "    .dataframe tbody tr th {\n",
       "        vertical-align: top;\n",
       "    }\n",
       "\n",
       "    .dataframe thead th {\n",
       "        text-align: right;\n",
       "    }\n",
       "</style>\n",
       "<table border=\"1\" class=\"dataframe\">\n",
       "  <thead>\n",
       "    <tr style=\"text-align: right;\">\n",
       "      <th></th>\n",
       "      <th>Location</th>\n",
       "      <th>id</th>\n",
       "      <th>base_time</th>\n",
       "      <th>additional_time</th>\n",
       "      <th>Preference</th>\n",
       "    </tr>\n",
       "  </thead>\n",
       "  <tbody>\n",
       "    <tr>\n",
       "      <th>304</th>\n",
       "      <td>FortCampbellKY</td>\n",
       "      <td>305</td>\n",
       "      <td>2.056667</td>\n",
       "      <td>0.980336</td>\n",
       "      <td>0.098034</td>\n",
       "    </tr>\n",
       "    <tr>\n",
       "      <th>350</th>\n",
       "      <td>LivingstonTN</td>\n",
       "      <td>351</td>\n",
       "      <td>3.333333</td>\n",
       "      <td>0.504643</td>\n",
       "      <td>0.050464</td>\n",
       "    </tr>\n",
       "    <tr>\n",
       "      <th>356</th>\n",
       "      <td>MurfreesboroTN</td>\n",
       "      <td>357</td>\n",
       "      <td>1.166667</td>\n",
       "      <td>0.972715</td>\n",
       "      <td>0.097272</td>\n",
       "    </tr>\n",
       "    <tr>\n",
       "      <th>357</th>\n",
       "      <td>McMinnvilleTN</td>\n",
       "      <td>358</td>\n",
       "      <td>2.566667</td>\n",
       "      <td>0.791161</td>\n",
       "      <td>0.079116</td>\n",
       "    </tr>\n",
       "    <tr>\n",
       "      <th>377</th>\n",
       "      <td>GlasgowKY</td>\n",
       "      <td>378</td>\n",
       "      <td>3.300000</td>\n",
       "      <td>0.717860</td>\n",
       "      <td>0.071786</td>\n",
       "    </tr>\n",
       "    <tr>\n",
       "      <th>394</th>\n",
       "      <td>ElizabethtownKY</td>\n",
       "      <td>395</td>\n",
       "      <td>4.466667</td>\n",
       "      <td>0.100267</td>\n",
       "      <td>0.010027</td>\n",
       "    </tr>\n",
       "    <tr>\n",
       "      <th>396</th>\n",
       "      <td>MetropolisIL</td>\n",
       "      <td>397</td>\n",
       "      <td>4.933333</td>\n",
       "      <td>0.125542</td>\n",
       "      <td>0.012554</td>\n",
       "    </tr>\n",
       "    <tr>\n",
       "      <th>414</th>\n",
       "      <td>ChattanoogaTN</td>\n",
       "      <td>415</td>\n",
       "      <td>4.466667</td>\n",
       "      <td>0.985697</td>\n",
       "      <td>0.098570</td>\n",
       "    </tr>\n",
       "    <tr>\n",
       "      <th>0</th>\n",
       "      <td>JacksonTN</td>\n",
       "      <td>1</td>\n",
       "      <td>4.300000</td>\n",
       "      <td>0.294693</td>\n",
       "      <td>0.029469</td>\n",
       "    </tr>\n",
       "    <tr>\n",
       "      <th>2</th>\n",
       "      <td>BowlingGreenKY</td>\n",
       "      <td>3</td>\n",
       "      <td>2.200000</td>\n",
       "      <td>0.971222</td>\n",
       "      <td>0.097122</td>\n",
       "    </tr>\n",
       "    <tr>\n",
       "      <th>207</th>\n",
       "      <td>WatertownTN</td>\n",
       "      <td>208</td>\n",
       "      <td>1.400000</td>\n",
       "      <td>0.498805</td>\n",
       "      <td>0.049881</td>\n",
       "    </tr>\n",
       "    <tr>\n",
       "      <th>208</th>\n",
       "      <td>KnoxvilleTN</td>\n",
       "      <td>209</td>\n",
       "      <td>6.000000</td>\n",
       "      <td>0.070119</td>\n",
       "      <td>0.007012</td>\n",
       "    </tr>\n",
       "    <tr>\n",
       "      <th>213</th>\n",
       "      <td>AthensTN</td>\n",
       "      <td>214</td>\n",
       "      <td>5.633333</td>\n",
       "      <td>0.859433</td>\n",
       "      <td>0.085943</td>\n",
       "    </tr>\n",
       "    <tr>\n",
       "      <th>230</th>\n",
       "      <td>LexingtonTN</td>\n",
       "      <td>231</td>\n",
       "      <td>3.700000</td>\n",
       "      <td>0.594683</td>\n",
       "      <td>0.059468</td>\n",
       "    </tr>\n",
       "    <tr>\n",
       "      <th>231</th>\n",
       "      <td>SpartaTN</td>\n",
       "      <td>232</td>\n",
       "      <td>2.900000</td>\n",
       "      <td>0.128409</td>\n",
       "      <td>0.012841</td>\n",
       "    </tr>\n",
       "    <tr>\n",
       "      <th>233</th>\n",
       "      <td>AlbanyKY</td>\n",
       "      <td>234</td>\n",
       "      <td>4.366667</td>\n",
       "      <td>0.295426</td>\n",
       "      <td>0.029543</td>\n",
       "    </tr>\n",
       "    <tr>\n",
       "      <th>281</th>\n",
       "      <td>CookevilleTN</td>\n",
       "      <td>282</td>\n",
       "      <td>2.666667</td>\n",
       "      <td>0.021460</td>\n",
       "      <td>0.002146</td>\n",
       "    </tr>\n",
       "    <tr>\n",
       "      <th>285</th>\n",
       "      <td>EvansvilleIN</td>\n",
       "      <td>286</td>\n",
       "      <td>5.066667</td>\n",
       "      <td>0.295586</td>\n",
       "      <td>0.029559</td>\n",
       "    </tr>\n",
       "    <tr>\n",
       "      <th>326</th>\n",
       "      <td>WarriorAL</td>\n",
       "      <td>327</td>\n",
       "      <td>5.700000</td>\n",
       "      <td>0.078182</td>\n",
       "      <td>0.007818</td>\n",
       "    </tr>\n",
       "    <tr>\n",
       "      <th>330</th>\n",
       "      <td>HuntsvilleAL</td>\n",
       "      <td>331</td>\n",
       "      <td>3.833333</td>\n",
       "      <td>0.803205</td>\n",
       "      <td>0.080320</td>\n",
       "    </tr>\n",
       "    <tr>\n",
       "      <th>408</th>\n",
       "      <td>TannerAL</td>\n",
       "      <td>409</td>\n",
       "      <td>3.166667</td>\n",
       "      <td>0.751883</td>\n",
       "      <td>0.075188</td>\n",
       "    </tr>\n",
       "    <tr>\n",
       "      <th>409</th>\n",
       "      <td>DecaturAL</td>\n",
       "      <td>410</td>\n",
       "      <td>2.666667</td>\n",
       "      <td>0.293558</td>\n",
       "      <td>0.029356</td>\n",
       "    </tr>\n",
       "    <tr>\n",
       "      <th>410</th>\n",
       "      <td>ElkmontAL</td>\n",
       "      <td>411</td>\n",
       "      <td>3.166667</td>\n",
       "      <td>0.927440</td>\n",
       "      <td>0.092744</td>\n",
       "    </tr>\n",
       "    <tr>\n",
       "      <th>418</th>\n",
       "      <td>FayettevilleTN</td>\n",
       "      <td>419</td>\n",
       "      <td>2.966667</td>\n",
       "      <td>0.155934</td>\n",
       "      <td>0.015593</td>\n",
       "    </tr>\n",
       "  </tbody>\n",
       "</table>\n",
       "</div>"
      ],
      "text/plain": [
       "            Location   id  base_time  additional_time  Preference\n",
       "304   FortCampbellKY  305   2.056667         0.980336    0.098034\n",
       "350     LivingstonTN  351   3.333333         0.504643    0.050464\n",
       "356   MurfreesboroTN  357   1.166667         0.972715    0.097272\n",
       "357    McMinnvilleTN  358   2.566667         0.791161    0.079116\n",
       "377        GlasgowKY  378   3.300000         0.717860    0.071786\n",
       "394  ElizabethtownKY  395   4.466667         0.100267    0.010027\n",
       "396     MetropolisIL  397   4.933333         0.125542    0.012554\n",
       "414    ChattanoogaTN  415   4.466667         0.985697    0.098570\n",
       "0          JacksonTN    1   4.300000         0.294693    0.029469\n",
       "2     BowlingGreenKY    3   2.200000         0.971222    0.097122\n",
       "207      WatertownTN  208   1.400000         0.498805    0.049881\n",
       "208      KnoxvilleTN  209   6.000000         0.070119    0.007012\n",
       "213         AthensTN  214   5.633333         0.859433    0.085943\n",
       "230      LexingtonTN  231   3.700000         0.594683    0.059468\n",
       "231         SpartaTN  232   2.900000         0.128409    0.012841\n",
       "233         AlbanyKY  234   4.366667         0.295426    0.029543\n",
       "281     CookevilleTN  282   2.666667         0.021460    0.002146\n",
       "285     EvansvilleIN  286   5.066667         0.295586    0.029559\n",
       "326        WarriorAL  327   5.700000         0.078182    0.007818\n",
       "330     HuntsvilleAL  331   3.833333         0.803205    0.080320\n",
       "408         TannerAL  409   3.166667         0.751883    0.075188\n",
       "409        DecaturAL  410   2.666667         0.293558    0.029356\n",
       "410        ElkmontAL  411   3.166667         0.927440    0.092744\n",
       "418   FayettevilleTN  419   2.966667         0.155934    0.015593"
      ]
     },
     "execution_count": 76,
     "metadata": {},
     "output_type": "execute_result"
    }
   ],
   "source": [
    "def expand(src) : \n",
    "    e1=edges[edges['locationB']==src][['locationA','id','base_time','additional_time','Preference']]#add a used locationB to these nodes\n",
    "    e2=edges[edges['locationA']==src][['locationB','id','base_time','additional_time','Preference']]# add a used locationA to these nodes\n",
    "    locations=pd.concat([e1['locationA'],e2['locationB']],axis=0)\n",
    "    e3=pd.concat([e1,e2],axis=0)\n",
    "    e3['Location']=locations\n",
    "    return e3[['Location','id','base_time','additional_time','Preference']]\n",
    "    #adjacent_edges=pd.DataFrame(data=pd.concat([edges[edges['locationB']==src][['locationA','id','base_time','additional_time','Preference']],edges[edges['locationA']==src][['locationB','id','base_time','additional_time','Preference']]], axis=0),columns=['Location','id','base_time','preference','additional_time'])\n",
    "    \n",
    "    #return adjacent_edges # change this to a new data frame maybe\n",
    "\n",
    "expand('NashvilleTN')"
   ]
  },
  {
   "cell_type": "code",
   "execution_count": 54,
   "id": "27dec644-4d28-4940-9147-b345dc124a5f",
   "metadata": {},
   "outputs": [
    {
     "data": {
      "text/html": [
       "<div>\n",
       "<style scoped>\n",
       "    .dataframe tbody tr th:only-of-type {\n",
       "        vertical-align: middle;\n",
       "    }\n",
       "\n",
       "    .dataframe tbody tr th {\n",
       "        vertical-align: top;\n",
       "    }\n",
       "\n",
       "    .dataframe thead th {\n",
       "        text-align: right;\n",
       "    }\n",
       "</style>\n",
       "<table border=\"1\" class=\"dataframe\">\n",
       "  <thead>\n",
       "    <tr style=\"text-align: right;\">\n",
       "      <th></th>\n",
       "      <th>edgeLabel</th>\n",
       "      <th>locationA</th>\n",
       "      <th>locationB</th>\n",
       "      <th>actualDistance</th>\n",
       "      <th>Contributer</th>\n",
       "      <th>Notes</th>\n",
       "      <th>Preference</th>\n",
       "      <th>id</th>\n",
       "      <th>base_time</th>\n",
       "      <th>additional_time</th>\n",
       "    </tr>\n",
       "  </thead>\n",
       "  <tbody>\n",
       "    <tr>\n",
       "      <th>0</th>\n",
       "      <td>Nashville_tofrom_Jackson_on_I40</td>\n",
       "      <td>NashvilleTN</td>\n",
       "      <td>JacksonTN</td>\n",
       "      <td>129.0</td>\n",
       "      <td>IT</td>\n",
       "      <td>IT = the instructional team</td>\n",
       "      <td>0.029469</td>\n",
       "      <td>1</td>\n",
       "      <td>4.300000</td>\n",
       "      <td>0.294693</td>\n",
       "    </tr>\n",
       "    <tr>\n",
       "      <th>1</th>\n",
       "      <td>Jackson_tofrom_Memphis_on_I40</td>\n",
       "      <td>JacksonTN</td>\n",
       "      <td>MemphisTN</td>\n",
       "      <td>88.0</td>\n",
       "      <td>IT</td>\n",
       "      <td>NaN</td>\n",
       "      <td>0.098811</td>\n",
       "      <td>2</td>\n",
       "      <td>2.933333</td>\n",
       "      <td>0.988113</td>\n",
       "    </tr>\n",
       "    <tr>\n",
       "      <th>2</th>\n",
       "      <td>Nashville_tofrom_BowlingGreen_on_I65</td>\n",
       "      <td>NashvilleTN</td>\n",
       "      <td>BowlingGreenKY</td>\n",
       "      <td>66.0</td>\n",
       "      <td>IT</td>\n",
       "      <td>NaN</td>\n",
       "      <td>0.097122</td>\n",
       "      <td>3</td>\n",
       "      <td>2.200000</td>\n",
       "      <td>0.971222</td>\n",
       "    </tr>\n",
       "    <tr>\n",
       "      <th>3</th>\n",
       "      <td>Louisville_tofrom_BowlingGreen_on_I65</td>\n",
       "      <td>LouisvilleKY</td>\n",
       "      <td>BowlingGreenKY</td>\n",
       "      <td>117.0</td>\n",
       "      <td>IT</td>\n",
       "      <td>NaN</td>\n",
       "      <td>0.048185</td>\n",
       "      <td>4</td>\n",
       "      <td>3.900000</td>\n",
       "      <td>0.481846</td>\n",
       "    </tr>\n",
       "    <tr>\n",
       "      <th>4</th>\n",
       "      <td>Indianapolis_tofrom_Louisville</td>\n",
       "      <td>IndianapolisIN</td>\n",
       "      <td>LouisvilleKY</td>\n",
       "      <td>114.0</td>\n",
       "      <td>IT</td>\n",
       "      <td>NaN</td>\n",
       "      <td>0.073569</td>\n",
       "      <td>5</td>\n",
       "      <td>3.800000</td>\n",
       "      <td>0.735693</td>\n",
       "    </tr>\n",
       "  </tbody>\n",
       "</table>\n",
       "</div>"
      ],
      "text/plain": [
       "                               edgeLabel       locationA       locationB  \\\n",
       "0        Nashville_tofrom_Jackson_on_I40     NashvilleTN       JacksonTN   \n",
       "1          Jackson_tofrom_Memphis_on_I40       JacksonTN       MemphisTN   \n",
       "2   Nashville_tofrom_BowlingGreen_on_I65     NashvilleTN  BowlingGreenKY   \n",
       "3  Louisville_tofrom_BowlingGreen_on_I65    LouisvilleKY  BowlingGreenKY   \n",
       "4         Indianapolis_tofrom_Louisville  IndianapolisIN    LouisvilleKY   \n",
       "\n",
       "   actualDistance Contributer                        Notes  Preference  id  \\\n",
       "0           129.0          IT  IT = the instructional team    0.029469   1   \n",
       "1            88.0          IT                          NaN    0.098811   2   \n",
       "2            66.0          IT                          NaN    0.097122   3   \n",
       "3           117.0          IT                          NaN    0.048185   4   \n",
       "4           114.0          IT                          NaN    0.073569   5   \n",
       "\n",
       "   base_time  additional_time  \n",
       "0   4.300000         0.294693  \n",
       "1   2.933333         0.988113  \n",
       "2   2.200000         0.971222  \n",
       "3   3.900000         0.481846  \n",
       "4   3.800000         0.735693  "
      ]
     },
     "execution_count": 54,
     "metadata": {},
     "output_type": "execute_result"
    }
   ],
   "source": [
    "edges.head()"
   ]
  },
  {
   "cell_type": "markdown",
   "id": "07d589d9-75cd-49d2-b889-64eaac4ec6e5",
   "metadata": {},
   "source": [
    "Creating the pop functionality for a priority queue"
   ]
  },
  {
   "cell_type": "code",
   "execution_count": 83,
   "id": "662d6427-0f7b-4067-8fea-e76c43d0cd83",
   "metadata": {},
   "outputs": [
    {
     "name": "stdout",
     "output_type": "stream",
     "text": [
      "[282, 418, 418]\n"
     ]
    }
   ],
   "source": [
    "def generate_random_path(src,n):\n",
    "    path=[]\n",
    "    for i in range(n):\n",
    "        #print(src)\n",
    "        edges=expand(src)\n",
    "        edge=edges.sample(1)\n",
    "        path.append(edge.iloc[0]['id'])\n",
    "        src=edge.iloc[0]['Location']\n",
    "    return path      \n",
    "\n",
    "print(generate_random_path('NashvilleTN',3))\n",
    "#is true : just check how edges are supposed to work as here we have them working bi directionally which may not make sense\n",
    "#ee how locations should be obtained from edges\n",
    "##might need to put a direction label on an edge id"
   ]
  },
  {
   "cell_type": "code",
   "execution_count": 57,
   "id": "2011618d-bd08-404e-a1cd-0f7e8619d3c9",
   "metadata": {},
   "outputs": [
    {
     "data": {
      "text/plain": [
       "0      False\n",
       "1      False\n",
       "2      False\n",
       "3      False\n",
       "4      False\n",
       "       ...  \n",
       "419    False\n",
       "420    False\n",
       "421    False\n",
       "422    False\n",
       "423    False\n",
       "Name: locationB, Length: 424, dtype: bool"
      ]
     },
     "execution_count": 57,
     "metadata": {},
     "output_type": "execute_result"
    }
   ],
   "source": [
    "edges['locationB']=='NashvilleTN'"
   ]
  },
  {
   "cell_type": "code",
   "execution_count": 82,
   "id": "decbdd68-60f7-41bf-8185-326db402e44b",
   "metadata": {},
   "outputs": [
    {
     "data": {
      "text/plain": [
       "[419, 419, 411]"
      ]
     },
     "execution_count": 82,
     "metadata": {},
     "output_type": "execute_result"
    }
   ],
   "source": [
    "def pop_priority(frontier) : \n",
    "    tot_pref_path = lambda path : total_preference(path,'id')\n",
    "    max_index=np.argmax(tot_pref_path(frontier)) # define a hueristic which takes into account distance traveled!\n",
    "    return frontier.pop(max_index)\n",
    "\n",
    "\n",
    "frontier=[]\n",
    "for i in range(10):\n",
    "    frontier.append(generate_random_path('NashvilleTN',3))\n",
    "#make sure the tot_pref returns preference agnostic to the list of nodes\n",
    "pop_priority(frontier)"
   ]
  },
  {
   "cell_type": "code",
   "execution_count": 51,
   "id": "6923ee7c-c55e-420d-9daa-3950d1f9b37a",
   "metadata": {},
   "outputs": [],
   "source": [
    "def crow_distance(src,dest):\n",
    "    src_lat=src['Latitude']\n",
    "    src_long=src['Longitude']\n",
    "    dest_lat=dest['Latitude']\n",
    "    dest_long = dest['Longitude']\n",
    "    return acos(sin(src_lat)*sin(dest_lat)+cos(src_lat)*cos(dest_lat)*cos(dest_long-src_long))*6371 "
   ]
  },
  {
   "cell_type": "code",
   "execution_count": 52,
   "id": "2d64702c-8794-4754-b88b-83172a44b18f",
   "metadata": {},
   "outputs": [],
   "source": [
    "def hueristic (path,col, alpha) : \n",
    "    src = locations[ locations['Location Label']==edges[edges[col]==path[1]]['locationA'] ]\n",
    "    dest= locations[ locations['Location Label']==edges[edges[col]==path[-1]]['locationB'] ] \n",
    "    #src,dest may not be what you want!!! as you may need to check the orientation of src,dest\n",
    "    return total_preference(path,'id') - alpha * crow_distance(src,dest)"
   ]
  },
  {
   "cell_type": "code",
   "execution_count": 46,
   "id": "32b2531e-428b-4311-a00c-5f9bdbd0b8d1",
   "metadata": {
    "tags": []
   },
   "outputs": [
    {
     "name": "stdout",
     "output_type": "stream",
     "text": [
      "Python implementation: CPython\n",
      "Python version       : 3.12.0\n",
      "IPython version      : 8.20.0\n",
      "\n",
      "wget     : not installed\n",
      "pandas   : 2.2.0\n",
      "numpy    : 1.26.2\n",
      "openpyxl : 3.1.2\n",
      "watermark: 2.4.3\n",
      "\n",
      "Compiler    : MSC v.1935 64 bit (AMD64)\n",
      "OS          : Windows\n",
      "Release     : 11\n",
      "Machine     : AMD64\n",
      "Processor   : Intel64 Family 6 Model 186 Stepping 3, GenuineIntel\n",
      "CPU cores   : 12\n",
      "Architecture: 64bit\n",
      "\n",
      "\n",
      "Last updated: Thu Feb 01 2024 20:34:22Central Standard Time\n",
      "\n"
     ]
    }
   ],
   "source": [
    "%load_ext watermark\n",
    "%watermark -v -m -p wget,pandas,numpy,openpyxl,watermark \n",
    "#needpackages and version\n",
    "print(\"\")\n",
    "%watermark -u -n -t -z\n"
   ]
  },
  {
   "cell_type": "code",
   "execution_count": null,
   "id": "fa993d3c-cf45-4699-9d35-6af4e8b13f0f",
   "metadata": {},
   "outputs": [],
   "source": []
  }
 ],
 "metadata": {
  "kernelspec": {
   "display_name": "Python 3 (ipykernel)",
   "language": "python",
   "name": "python3"
  },
  "language_info": {
   "codemirror_mode": {
    "name": "ipython",
    "version": 3
   },
   "file_extension": ".py",
   "mimetype": "text/x-python",
   "name": "python",
   "nbconvert_exporter": "python",
   "pygments_lexer": "ipython3",
   "version": "3.12.0"
  }
 },
 "nbformat": 4,
 "nbformat_minor": 5
}
